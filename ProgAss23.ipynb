{
  "nbformat": 4,
  "nbformat_minor": 0,
  "metadata": {
    "colab": {
      "provenance": []
    },
    "kernelspec": {
      "name": "python3",
      "display_name": "Python 3"
    },
    "language_info": {
      "name": "python"
    }
  },
  "cells": [
    {
      "cell_type": "markdown",
      "source": [
        "# Question 1\n",
        "Create a function that takes a number as an argument and returns True or False depending\n",
        "on whether the number is symmetrical or not. A number is symmetrical when it is the same as\n",
        "its reverse.\n",
        "Examples\n",
        "is_symmetrical(7227) ➞ True\n",
        "is_symmetrical(12567) ➞ False\n",
        "is_symmetrical(44444444) ➞ True\n",
        "is_symmetrical(9939) ➞ False\n",
        "is_symmetrical(1112111) ➞ True"
      ],
      "metadata": {
        "id": "Cxr5gaix50a8"
      }
    },
    {
      "cell_type": "code",
      "source": [
        "def is_symmetrical(number):\n",
        "    return str(number) == str(number)[::-1]\n",
        "\n",
        "print(is_symmetrical(7227))  # True\n",
        "print(is_symmetrical(12567))  # False\n",
        "print(is_symmetrical(44444444))  # True\n",
        "print(is_symmetrical(9939))  # False\n",
        "print(is_symmetrical(1112111))  # True\n"
      ],
      "metadata": {
        "id": "onNDKnVm6Thy"
      },
      "execution_count": null,
      "outputs": []
    },
    {
      "cell_type": "markdown",
      "source": [
        "# Question 2\n",
        "Given a string of numbers separated by a comma and space, return the product of the\n",
        "numbers.\n",
        "Examples\n",
        "multiply_nums(\"2, 3\") ➞ 6\n",
        "multiply_nums(\"1, 2, 3, 4\") ➞ 24\n",
        "multiply_nums(\"54, 75, 453, 0\") ➞ 0\n",
        "multiply_nums(\"10, -2\") ➞ -20"
      ],
      "metadata": {
        "id": "JpnHFlZW6qoy"
      }
    },
    {
      "cell_type": "code",
      "source": [
        "def multiply_nums(nums_string):\n",
        "    nums = [int(num) for num in nums_string.split(\", \")]\n",
        "    product = 1\n",
        "    for num in nums:\n",
        "        product *= num\n",
        "    return product\n",
        "\n",
        "print(multiply_nums(\"2, 3\"))  # 6\n",
        "print(multiply_nums(\"1, 2, 3, 4\"))  # 24\n",
        "print(multiply_nums(\"54, 75, 453, 0\"))  # 0\n",
        "print(multiply_nums(\"10, -2\"))  # -20\n"
      ],
      "metadata": {
        "id": "3090cm2e6_kU"
      },
      "execution_count": null,
      "outputs": []
    },
    {
      "cell_type": "markdown",
      "source": [
        "# Question 3\n",
        "Create a function that squares every digit of a number.\n",
        "Examples\n",
        "square_digits(9119) ➞ 811181\n",
        "square_digits(2483) ➞ 416649\n",
        "square_digits(3212) ➞ 9414\n",
        "Notes\n",
        "The function receives an integer and must return an integer."
      ],
      "metadata": {
        "id": "gZt1r_lX7JGk"
      }
    },
    {
      "cell_type": "code",
      "source": [
        "def square_digits(number):\n",
        "    squared_number = \"\"\n",
        "    for digit in str(number):\n",
        "        squared_digit = int(digit) ** 2\n",
        "        squared_number += str(squared_digit)\n",
        "    return int(squared_number)\n",
        "\n",
        "print(square_digits(9119))  # 811181\n",
        "print(square_digits(2483))  # 416649\n",
        "print(square_digits(3212))  # 9414\n"
      ],
      "metadata": {
        "id": "mqGMiSbX7Sxx"
      },
      "execution_count": null,
      "outputs": []
    },
    {
      "cell_type": "markdown",
      "source": [
        "# Question 4\n",
        "Create a function that sorts a list and removes all duplicate items from it.\n",
        "Examples\n",
        "setify([1, 3, 3, 5, 5]) ➞ [1, 3, 5]\n",
        "setify([4, 4, 4, 4]) ➞ [4]\n",
        "setify([5, 7, 8, 9, 10, 15]) ➞ [5, 7, 8, 9, 10, 15]\n",
        "setify([3, 3, 3, 2, 1]) ➞ [1, 2, 3]"
      ],
      "metadata": {
        "id": "Ncy0Gd6j7cOV"
      }
    },
    {
      "cell_type": "code",
      "source": [
        "def setify(lst):\n",
        "    return list(set(lst))\n",
        "\n",
        "print(setify([1, 3, 3, 5, 5]))  # [1, 3, 5]\n",
        "print(setify([4, 4, 4, 4]))  # [4]\n",
        "print(setify([5, 7, 8, 9, 10, 15]))  # [5, 7, 8, 9, 10, 15]\n",
        "print(setify([3, 3, 3, 2, 1]))  # [1, 2, 3]\n"
      ],
      "metadata": {
        "id": "QW2ffPxj7r9n"
      },
      "execution_count": null,
      "outputs": []
    },
    {
      "cell_type": "markdown",
      "source": [
        "# Question 5\n",
        "Create a function that returns the mean of all digits.\n",
        "Examples\n",
        "mean(42) ➞ 3\n",
        "mean(12345) ➞ 3\n",
        "mean(666) ➞ 6\n",
        "Notes\n",
        " The mean of all digits is the sum of digits / how many digits there are (e.g. mean of digits in\n",
        "512 is (5+1+2)/3(number of digits) = 8/3=2).\n",
        " The mean will always be an integer."
      ],
      "metadata": {
        "id": "iEyoN1Fw8Kj_"
      }
    },
    {
      "cell_type": "code",
      "source": [
        "def mean(number):\n",
        "    digits = [int(digit) for digit in str(number)]\n",
        "    return sum(digits) // len(digits)\n",
        "\n",
        "print(mean(42))  # 3\n",
        "print(mean(12345))  # 3\n",
        "print(mean(666))  # 6\n"
      ],
      "metadata": {
        "id": "9P4AmLKP8fRN"
      },
      "execution_count": null,
      "outputs": []
    }
  ]
}