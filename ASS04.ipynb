{
  "nbformat": 4,
  "nbformat_minor": 0,
  "metadata": {
    "colab": {
      "provenance": [],
      "collapsed_sections": []
    },
    "kernelspec": {
      "name": "python3",
      "display_name": "Python 3"
    },
    "language_info": {
      "name": "python"
    }
  },
  "cells": [
    {
      "cell_type": "markdown",
      "source": [],
      "metadata": {
        "id": "W6ECGMP2h_co"
      }
    },
    {
      "cell_type": "markdown",
      "source": [
        "# 1. What exactly is [ ]?"
      ],
      "metadata": {
        "id": "q1wkMQi9iAie"
      }
    },
    {
      "cell_type": "markdown",
      "source": [
        "* The empty list value.\n",
        "* which is a list value that contains no items."
      ],
      "metadata": {
        "id": "duoSV8GYivUd"
      }
    },
    {
      "cell_type": "markdown",
      "source": [
        "# 2. In a list of values stored in a variable called spam, how would you assign the value 'hello' as the third value? (Assume [2, 4, 6, 8, 10] are in spam.)"
      ],
      "metadata": {
        "id": "RAcmbyR9jCy6"
      }
    },
    {
      "cell_type": "markdown",
      "source": [],
      "metadata": {
        "id": "neh18u13iqts"
      }
    },
    {
      "cell_type": "code",
      "source": [
        " spam=[2, 4, 6, 8, 10]\n",
        " spam.insert(2,\"hello\")\n",
        " spam"
      ],
      "metadata": {
        "colab": {
          "base_uri": "https://localhost:8080/"
        },
        "id": "vkPyEK5JjteJ",
        "outputId": "0c253cf3-2a3f-42cc-edc4-2d897cdfd096"
      },
      "execution_count": 4,
      "outputs": [
        {
          "output_type": "execute_result",
          "data": {
            "text/plain": [
              "[2, 4, 'hello', 6, 8, 10]"
            ]
          },
          "metadata": {},
          "execution_count": 4
        }
      ]
    },
    {
      "cell_type": "markdown",
      "source": [
        "# Let's pretend the spam includes the list ['a','b','c','d'] for the next three queries."
      ],
      "metadata": {
        "id": "nF13DI9Qk09X"
      }
    },
    {
      "cell_type": "markdown",
      "source": [
        "# 3. What is the value of spam[int(int('3' * 2) / 11)]?\n",
        "\n",
        "* Note that '3' * 2 is the string '33', which is passed to int() before being divided by 11. This eventually evaluates to 3. Expressions can be used wherever values are used.\n",
        "#'d'"
      ],
      "metadata": {
        "id": "c6PK4Qr7lfjM"
      }
    },
    {
      "cell_type": "code",
      "source": [
        "spam=['a','b','c','d']\n",
        "spam[3]"
      ],
      "metadata": {
        "colab": {
          "base_uri": "https://localhost:8080/",
          "height": 35
        },
        "id": "ZW8zBArXly6o",
        "outputId": "469a4c6d-3735-43b9-a2bc-43df7ef7b749"
      },
      "execution_count": 27,
      "outputs": [
        {
          "output_type": "execute_result",
          "data": {
            "text/plain": [
              "'d'"
            ],
            "application/vnd.google.colaboratory.intrinsic+json": {
              "type": "string"
            }
          },
          "metadata": {},
          "execution_count": 27
        }
      ]
    },
    {
      "cell_type": "markdown",
      "source": [
        "# 4. What is the value of spam[-1]?\n"
      ],
      "metadata": {
        "id": "7fHxpii0pFTj"
      }
    },
    {
      "cell_type": "code",
      "source": [
        "spam=['a','b','c','d']\n",
        "spam[-1]"
      ],
      "metadata": {
        "colab": {
          "base_uri": "https://localhost:8080/",
          "height": 35
        },
        "id": "_wS-lhu-pNQ1",
        "outputId": "e0088713-6560-4748-89f1-8b6115472824"
      },
      "execution_count": 19,
      "outputs": [
        {
          "output_type": "execute_result",
          "data": {
            "text/plain": [
              "'d'"
            ],
            "application/vnd.google.colaboratory.intrinsic+json": {
              "type": "string"
            }
          },
          "metadata": {},
          "execution_count": 19
        }
      ]
    },
    {
      "cell_type": "markdown",
      "source": [
        "# 5. What is the value of spam[:2]?"
      ],
      "metadata": {
        "id": "j17dQYN_pfe3"
      }
    },
    {
      "cell_type": "code",
      "source": [
        "spam=['a','b','c','d']\n",
        "spam[:2]"
      ],
      "metadata": {
        "colab": {
          "base_uri": "https://localhost:8080/"
        },
        "id": "64F1xRWgpkh4",
        "outputId": "21cb52cb-903f-474e-b6bf-6fff234e23bd"
      },
      "execution_count": 20,
      "outputs": [
        {
          "output_type": "execute_result",
          "data": {
            "text/plain": [
              "['a', 'b']"
            ]
          },
          "metadata": {},
          "execution_count": 20
        }
      ]
    },
    {
      "cell_type": "markdown",
      "source": [],
      "metadata": {
        "id": "7U0fY6N4pugW"
      }
    },
    {
      "cell_type": "markdown",
      "source": [
        " Let's pretend bacon has the list [3.14,'cat',11,'cat',True] for the next three questions.\n",
        "# 6. What is the value of bacon.index('cat')?\n",
        "# 1 why not 3 because duplicate value index is return frist value of index."
      ],
      "metadata": {
        "id": "Y7xoGfFLsP6S"
      }
    },
    {
      "cell_type": "code",
      "source": [
        "bacon= [3.14,'cat',11,'cat',True] \n",
        "bacon.index('cat')"
      ],
      "metadata": {
        "colab": {
          "base_uri": "https://localhost:8080/"
        },
        "id": "zk6komcms6kB",
        "outputId": "57bc1273-029a-45ef-da3d-143a5df11214"
      },
      "execution_count": 21,
      "outputs": [
        {
          "output_type": "execute_result",
          "data": {
            "text/plain": [
              "1"
            ]
          },
          "metadata": {},
          "execution_count": 21
        }
      ]
    },
    {
      "cell_type": "markdown",
      "source": [
        "# 7. How does bacon.append(99) change the look of the list value in bacon?\n",
        "# [3.14,'cat',11,'cat',True,99]"
      ],
      "metadata": {
        "id": "oRXJz3Rqtmij"
      }
    },
    {
      "cell_type": "code",
      "source": [
        "bacon= [3.14,'cat',11,'cat',True] \n",
        "bacon.append(99)\n",
        "bacon"
      ],
      "metadata": {
        "colab": {
          "base_uri": "https://localhost:8080/"
        },
        "id": "7aV6rKemtvFy",
        "outputId": "30c15521-119c-4cfc-9c41-0b143a344d08"
      },
      "execution_count": 23,
      "outputs": [
        {
          "output_type": "execute_result",
          "data": {
            "text/plain": [
              "[3.14, 'cat', 11, 'cat', True, 99]"
            ]
          },
          "metadata": {},
          "execution_count": 23
        }
      ]
    },
    {
      "cell_type": "markdown",
      "source": [
        "# 8. How does bacon.remove('cat') change the look of the list in bacon?\n",
        "# [3.14, 'cat', 11, 'cat', True]"
      ],
      "metadata": {
        "id": "wKP4lLk0u3qg"
      }
    },
    {
      "cell_type": "code",
      "source": [
        "bacon=[3.14, 'cat', 11, 'cat', True]\n",
        "bacon.remove('cat')\n",
        "bacon\n",
        "\n"
      ],
      "metadata": {
        "colab": {
          "base_uri": "https://localhost:8080/"
        },
        "id": "aAuqsqwrvG17",
        "outputId": "4f2939aa-7436-442f-de54-0d07559b0bc7"
      },
      "execution_count": 28,
      "outputs": [
        {
          "output_type": "execute_result",
          "data": {
            "text/plain": [
              "[3.14, 11, 'cat', True]"
            ]
          },
          "metadata": {},
          "execution_count": 28
        }
      ]
    },
    {
      "cell_type": "markdown",
      "source": [
        "# 9. What are the list concatenation and list replication operators?"
      ],
      "metadata": {
        "id": "qKsDfXwgwFOF"
      }
    },
    {
      "cell_type": "markdown",
      "source": [
        "* The operator for list concatenation is + \n",
        "* while the operator for replication is * \n",
        "* (This is the same as for strings.)"
      ],
      "metadata": {
        "id": "Tikmp9_KN17t"
      }
    },
    {
      "cell_type": "markdown",
      "source": [],
      "metadata": {
        "id": "42EpliH8OPl-"
      }
    },
    {
      "cell_type": "markdown",
      "source": [
        "# 10. What is difference between the list methods append() and insert()?"
      ],
      "metadata": {
        "id": "i2Sx_qd0OTHk"
      }
    },
    {
      "cell_type": "markdown",
      "source": [
        "* append() will add values only to the end of a list.\n",
        "* insert() can add them anywhere in the list."
      ],
      "metadata": {
        "id": "xBXlIEDyOVJ0"
      }
    },
    {
      "cell_type": "markdown",
      "source": [
        "# 11. What are the two methods for removing items from a list?"
      ],
      "metadata": {
        "id": "EyIqSN5BOi8E"
      }
    },
    {
      "cell_type": "markdown",
      "source": [
        "* remove() list method remove only first element that time a multiple repeted or same value.\n",
        "* pop() last element delect and return these value."
      ],
      "metadata": {
        "id": "KGvvCRXMOm4V"
      }
    },
    {
      "cell_type": "markdown",
      "source": [
        "# 12. Describe how list values and string values are identical."
      ],
      "metadata": {
        "id": "wzXvw0oIP9UL"
      }
    },
    {
      "cell_type": "markdown",
      "source": [
        "* Both lists and strings can be passed to len(). \n",
        "* have indexes and slices, be used in for loops, be concatenated or replicated, and be used with the in and not in operators."
      ],
      "metadata": {
        "id": "K_k_hJK8P-9_"
      }
    },
    {
      "cell_type": "markdown",
      "source": [
        "# 13. What's the difference between tuples and lists?"
      ],
      "metadata": {
        "id": "_YiQ9zk2QWyv"
      }
    },
    {
      "cell_type": "markdown",
      "source": [
        "* Lists are mutable; they can have values added, removed, or changed. \n",
        "* Tuples are immutable; they cannot be changed at all. \n",
        "* tuples are written using parentheses (  ) \n",
        "* nlists use the square brackets [ ]"
      ],
      "metadata": {
        "id": "JvFxUS7iQamO"
      }
    },
    {
      "cell_type": "markdown",
      "source": [
        "# 14. How do you type a tuple value that only contains the integer 42?\n",
        "\n",
        " #(42,) # After value comma is mandatory."
      ],
      "metadata": {
        "id": "jqV6TwboRCDV"
      }
    },
    {
      "cell_type": "code",
      "source": [
        "t=(42,)\n",
        "print(type(t))"
      ],
      "metadata": {
        "colab": {
          "base_uri": "https://localhost:8080/"
        },
        "id": "CVjzjc44RfcW",
        "outputId": "cf011ed8-184e-42d4-b4e1-53988a712999"
      },
      "execution_count": 29,
      "outputs": [
        {
          "output_type": "stream",
          "name": "stdout",
          "text": [
            "<class 'tuple'>\n"
          ]
        }
      ]
    },
    {
      "cell_type": "markdown",
      "source": [
        "# 15. How do you get a list value's tuple form? How do you get a tuple value's list form?"
      ],
      "metadata": {
        "id": "ZuIBM0RkRs5K"
      }
    },
    {
      "cell_type": "markdown",
      "source": [
        "* The tuple() and list() functions, respectively"
      ],
      "metadata": {
        "id": "xIoReCgJR6C0"
      }
    },
    {
      "cell_type": "markdown",
      "source": [
        "# 16. Variables that \"contain\" list values are not necessarily lists themselves. Instead, what do they contain?"
      ],
      "metadata": {
        "id": "FAHDbpeAR86K"
      }
    },
    {
      "cell_type": "markdown",
      "source": [
        "* They contain references to list values."
      ],
      "metadata": {
        "id": "e8LYe0QkSPl4"
      }
    },
    {
      "cell_type": "markdown",
      "source": [
        "# 17. How do you distinguish between copy.copy() and copy.deepcopy()?"
      ],
      "metadata": {
        "id": "-PE8NT6mSRFw"
      }
    },
    {
      "cell_type": "markdown",
      "source": [
        "* The copy.copy() function will do a shallow copy of a list.\n",
        "* copy.deepcopy() function will do a deep copy of a list. \n",
        "* That is, only copy.deepcopy() will duplicate any lists inside the list."
      ],
      "metadata": {
        "id": "aXAMwxRzSbbh"
      }
    }
  ]
}