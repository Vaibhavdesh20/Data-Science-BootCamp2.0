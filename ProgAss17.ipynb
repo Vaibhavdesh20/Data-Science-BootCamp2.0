{
  "nbformat": 4,
  "nbformat_minor": 0,
  "metadata": {
    "colab": {
      "provenance": []
    },
    "kernelspec": {
      "name": "python3",
      "display_name": "Python 3"
    },
    "language_info": {
      "name": "python"
    }
  },
  "cells": [
    {
      "cell_type": "markdown",
      "source": [
        "Question1. Create a function that takes three arguments a, b, c and returns the sum of the\n",
        "numbers that are evenly divided by c from the range a, b inclusive.\n",
        "Examples\n",
        "evenly_divisible(1, 10, 20) ➞ 0\n",
        "# No number between 1 and 10 can be evenly divided by 20.\n",
        "evenly_divisible(1, 10, 2) ➞ 30\n",
        "# 2 + 4 + 6 + 8 + 10 = 30\n",
        "evenly_divisible(1, 10, 3) ➞ 18\n",
        "# 3 + 6 + 9 = 18"
      ],
      "metadata": {
        "id": "mK-eWeP1Q7Kk"
      }
    },
    {
      "cell_type": "code",
      "source": [
        "def evenly_divisible(a, b, c):\n",
        "    total = 0\n",
        "    for num in range(a, b+1):\n",
        "        if num % c == 0:\n",
        "            total += num\n",
        "    return total\n",
        "\n",
        "print(evenly_divisible(1, 10, 20))   \n",
        "print(evenly_divisible(1, 10, 2))   \n",
        "print(evenly_divisible(1, 10, 3))    \n"
      ],
      "metadata": {
        "id": "ZmeRX3LZRRcl"
      },
      "execution_count": null,
      "outputs": []
    },
    {
      "cell_type": "markdown",
      "source": [
        "Question2. Create a function that returns True if a given inequality expression is correct and\n",
        "False otherwise.\n",
        "Examples\n",
        "correct_signs(\"3< 7 < 11\") ➞ True\n",
        "correct_signs(\"13 > 44 > 33 > 1\") ➞ False\n",
        "correct_signs(1 < 2 < 6 < 9 > 3\") ➞ True\n",
        "\n",
        "\n"
      ],
      "metadata": {
        "id": "eaNq-tQTRYbc"
      }
    },
    {
      "cell_type": "code",
      "source": [
        "def correct_signs(expression):\n",
        "    parts = expression.split()\n",
        "    for i in range(1, len(parts), 2):\n",
        "        operator = parts[i]\n",
        "        num1 = int(parts[i-1])\n",
        "        num2 = int(parts[i+1])\n",
        "        if operator == \"<\" and num1 >= num2:\n",
        "            return False\n",
        "        elif operator == \">\" and num1 <= num2:\n",
        "            return False\n",
        "    return True\n",
        "\n",
        "print(correct_signs(\"3 < 7 < 11\"))             \n",
        "print(correct_signs(\"13 > 44 > 33 > 1\"))       \n",
        "print(correct_signs(\"1 < 2 < 6 < 9 > 3\"))      \n"
      ],
      "metadata": {
        "colab": {
          "base_uri": "https://localhost:8080/"
        },
        "id": "2POVKQ2sUGgh",
        "outputId": "8b9b4595-89cb-4b59-b652-8176d0e453fe"
      },
      "execution_count": null,
      "outputs": [
        {
          "output_type": "stream",
          "name": "stdout",
          "text": [
            "True\n",
            "False\n",
            "True\n"
          ]
        }
      ]
    },
    {
      "cell_type": "markdown",
      "source": [
        "Question3. Create a function that replaces all the vowels in a string with a specified character.\n",
        "Examples\n",
        "replace_vowels(\"the aardvark\", \"#\") ➞ \"th# ##rdv#rk\"\n",
        "replace_vowels(\"minnie mouse\", \"?\") ➞ \"m?nn?? m??s?\"\n",
        "replace_vowels(\"shakespeare\", \"*\") ➞ \"sh*k*sp**r*\""
      ],
      "metadata": {
        "id": "5UUdSVLWUjzK"
      }
    },
    {
      "cell_type": "code",
      "source": [
        "def replace_vowels(string, character):\n",
        "    vowels = ['a', 'e', 'i', 'o', 'u', 'A', 'E', 'I', 'O', 'U']\n",
        "    for vowel in vowels:\n",
        "        string = string.replace(vowel, character)\n",
        "    return string\n",
        "\n",
        "print(replace_vowels(\"the aardvark\", \"#\"))\n",
        "# Output: \"th# ##rdv#rk\"\n",
        "\n",
        "print(replace_vowels(\"minnie mouse\", \"?\"))\n",
        "# Output: \"m?nn?? m??s?\"\n",
        "\n",
        "print(replace_vowels(\"shakespeare\", \"*\"))\n",
        "# Output: \"sh*k*sp**r*\"\n"
      ],
      "metadata": {
        "colab": {
          "base_uri": "https://localhost:8080/"
        },
        "id": "7Q8qZTI1Wqp-",
        "outputId": "ea826eaa-562f-4072-9397-db41c1018fd8"
      },
      "execution_count": null,
      "outputs": [
        {
          "output_type": "stream",
          "name": "stdout",
          "text": [
            "th# ##rdv#rk\n",
            "m?nn?? m??s?\n",
            "sh*k*sp**r*\n"
          ]
        }
      ]
    },
    {
      "cell_type": "markdown",
      "source": [
        "# Question4. Write a function that calculates the factorial of a number recursively.\n",
        "Examples\n",
        "factorial(5) ➞ 120\n",
        "factorial(3) ➞ 6\n",
        "factorial(1) ➞ 1\n",
        "factorial(0) ➞ 1"
      ],
      "metadata": {
        "id": "5jdZO7VtW99_"
      }
    },
    {
      "cell_type": "code",
      "source": [
        "def factorial(n):\n",
        "    if n == 0 or n == 1:\n",
        "        return 1\n",
        "    else:\n",
        "        return n * factorial(n - 1)\n",
        "\n",
        "print(factorial(5),factorial(3),factorial(1),factorial(0))"
      ],
      "metadata": {
        "colab": {
          "base_uri": "https://localhost:8080/"
        },
        "id": "57lPk4OjYfWa",
        "outputId": "a9314875-c903-4b99-c317-725fc55670e3"
      },
      "execution_count": null,
      "outputs": [
        {
          "output_type": "stream",
          "name": "stdout",
          "text": [
            "120 6 1 1\n"
          ]
        }
      ]
    },
    {
      "cell_type": "markdown",
      "source": [
        "# Question 5\n",
        "Hamming distance is the number of characters that differ between two strings.\n",
        "To illustrate:\n",
        "String1: \"abcbba\"\n",
        "String2: \"abcbda\"\n",
        "Hamming Distance: 1 - \"b\" vs. \"d\" is the only difference.\n",
        "Create a function that computes the hamming distance between two strings.\n",
        "Examples\n",
        "hamming_distance(\"abcde\", \"bcdef\") ➞ 5\n",
        "hamming_distance(\"abcde\", \"abcde\") ➞ 0\n",
        "hamming_distance(\"strong\", \"strung\") ➞ 1"
      ],
      "metadata": {
        "id": "Q_Ah51q6Y-ea"
      }
    },
    {
      "cell_type": "code",
      "source": [
        "def hamming_distance(string1, string2):\n",
        "    if len(string1) != len(string2):\n",
        "        raise ValueError(\"Input strings must have the same length.\")\n",
        "    \n",
        "    distance = 0\n",
        "    for char1, char2 in zip(string1, string2):\n",
        "        if char1 != char2:\n",
        "            distance += 1\n",
        "    \n",
        "    return distance\n",
        "\n",
        "\n",
        "print(hamming_distance(\"abcde\", \"bcdef\"))\n",
        "# Output: 5\n",
        "\n",
        "print(hamming_distance(\"abcde\", \"abcde\"))\n",
        "# Output: 0\n",
        "\n",
        "print(hamming_distance(\"strong\", \"strung\"))\n",
        "# Output: 1\n"
      ],
      "metadata": {
        "id": "y74tGoCOZtRx"
      },
      "execution_count": null,
      "outputs": []
    }
  ]
}