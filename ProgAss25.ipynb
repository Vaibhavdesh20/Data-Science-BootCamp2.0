{
  "nbformat": 4,
  "nbformat_minor": 0,
  "metadata": {
    "colab": {
      "provenance": []
    },
    "kernelspec": {
      "name": "python3",
      "display_name": "Python 3"
    },
    "language_info": {
      "name": "python"
    }
  },
  "cells": [
    {
      "cell_type": "markdown",
      "source": [
        "# Question1\n",
        "Create a function that takes three integer arguments (a, b, c) and returns the amount of\n",
        "integers which are of equal value.\n",
        "Examples\n",
        "equal(3, 4, 3) ➞ 2\n",
        "equal(1, 1, 1) ➞ 3\n",
        "equal(3, 4, 1) ➞ 0\n",
        "Notes\n",
        "Your function must return 0, 2 or 3."
      ],
      "metadata": {
        "id": "OEjqA7_fCbJi"
      }
    },
    {
      "cell_type": "code",
      "source": [
        "def equal(a, b, c):\n",
        "    if a == b == c:\n",
        "        return 3\n",
        "    elif a == b or b == c or a == c:\n",
        "        return 2\n",
        "    else:\n",
        "        return 0\n",
        "\n",
        "print(equal(3, 4, 3))  # 2\n",
        "print(equal(1, 1, 1))  # 3\n",
        "print(equal(3, 4, 1))  # 0\n"
      ],
      "metadata": {
        "id": "cXoCerz0CpAF"
      },
      "execution_count": null,
      "outputs": []
    },
    {
      "cell_type": "markdown",
      "source": [
        "# Question2\n",
        "Write a function that converts a dictionary into a list of keys-values tuples.\n",
        "Examples\n",
        "dict_to_list({\n",
        "\"D\": 1,\n",
        "\"B\": 2,\n",
        "\"C\": 3\n",
        "}) ➞ [(\"B\", 2), (\"C\", 3), (\"D\", 1)]\n",
        "dict_to_list({\n",
        "\"likes\": 2,\n",
        "\"dislikes\": 3,\n",
        "\"followers\": 10\n",
        "}) ➞ [(\"dislikes\", 3), (\"followers\", 10), (\"likes\", 2)]\n",
        "Notes\n",
        "Return the elements in the list in alphabetical order."
      ],
      "metadata": {
        "id": "MIc9_fUQCuLP"
      }
    },
    {
      "cell_type": "code",
      "source": [
        "def dict_to_list(dictionary):\n",
        "    return sorted(dictionary.items())\n",
        "\n",
        "print(dict_to_list({\"D\": 1, \"B\": 2, \"C\": 3}))  # [(\"B\", 2), (\"C\", 3), (\"D\", 1)]\n",
        "print(dict_to_list({\"likes\": 2, \"dislikes\": 3, \"followers\": 10}))  # [(\"dislikes\", 3), (\"followers\", 10), (\"likes\", 2)]\n"
      ],
      "metadata": {
        "id": "86BzWhjkDxHs"
      },
      "execution_count": null,
      "outputs": []
    },
    {
      "cell_type": "markdown",
      "source": [
        "# Question3\n",
        "Write a function that creates a dictionary with each (key, value) pair being the (lower case,\n",
        "upper case) versions of a letter, respectively.\n",
        "Examples\n",
        "mapping([\"p\", \"s\"]) ➞ { \"p\": \"P\", \"s\": \"S\" }\n",
        "\n",
        "mapping([\"a\", \"b\", \"c\"]) ➞ { \"a\": \"A\", \"b\": \"B\", \"c\": \"C\" }\n",
        "mapping([\"a\", \"v\", \"y\", \"z\"]) ➞ { \"a\": \"A\", \"v\": \"V\", \"y\": \"Y\", \"z\": \"Z\" }\n",
        "Notes\n",
        "All of the letters in the input list will always be lowercase."
      ],
      "metadata": {
        "id": "gMD5kqgsD3Zg"
      }
    },
    {
      "cell_type": "code",
      "source": [
        "def mapping(letters):\n",
        "    return {letter: letter.upper() for letter in letters}\n",
        "\n",
        "print(mapping([\"p\", \"s\"]))  # {\"p\": \"P\", \"s\": \"S\"}\n",
        "print(mapping([\"a\", \"b\", \"c\"]))  # {\"a\": \"A\", \"b\": \"B\", \"c\": \"C\"}\n",
        "print(mapping([\"a\", \"v\", \"y\", \"z\"]))  # {\"a\": \"A\", \"v\": \"V\", \"y\": \"Y\", \"z\": \"Z\"}\n"
      ],
      "metadata": {
        "id": "mRa3sAQVE98T"
      },
      "execution_count": null,
      "outputs": []
    },
    {
      "cell_type": "markdown",
      "source": [],
      "metadata": {
        "id": "fDI4rh_AFMz2"
      }
    },
    {
      "cell_type": "markdown",
      "source": [
        "# Question4\n",
        "Write a function, that replaces all vowels in a string with a specified vowel.\n",
        "Examples\n",
        "vow_replace(\"apples and bananas\", \"u\") ➞ \"upplus und bununus\"\n",
        "vow_replace(\"cheese casserole\", \"o\") ➞ \"chooso cossorolo\"\n",
        "vow_replace(\"stuffed jalapeno poppers\", \"e\") ➞ \"steffed jelepene peppers\"\n",
        "Notes\n",
        "All words will be lowercase. Y is not considered a vowel."
      ],
      "metadata": {
        "id": "U_6ItYgAFNBr"
      }
    },
    {
      "cell_type": "code",
      "source": [
        "def vow_replace(string, vowel):\n",
        "    vowels = ['a', 'e', 'i', 'o', 'u']\n",
        "    new_string = ''\n",
        "    for char in string:\n",
        "        if char.lower() in vowels:\n",
        "            new_string += vowel\n",
        "        else:\n",
        "            new_string += char\n",
        "    return new_string\n",
        "\n",
        "\n",
        "print(vow_replace(\"apples and bananas\", \"u\"))  # \"upplus und bununus\"\n",
        "print(vow_replace(\"cheese casserole\", \"o\"))  # \"chooso cossorolo\"\n",
        "print(vow_replace(\"stuffed jalapeno poppers\", \"e\"))  # \"steffed jelepene peppers\"\n"
      ],
      "metadata": {
        "id": "C2d6CSeMF7c6"
      },
      "execution_count": null,
      "outputs": []
    },
    {
      "cell_type": "markdown",
      "source": [
        "# Question5\n",
        "Create a function that takes a string as input and capitalizes a letter if its ASCII code is even\n",
        "and returns its lower case version if its ASCII code is odd.\n",
        "Examples\n",
        "ascii_capitalize(\"to be or not to be!\") ➞ \"To Be oR NoT To Be!\"\n",
        "ascii_capitalize(\"THE LITTLE MERMAID\") ➞ \"THe LiTTLe meRmaiD\"\n",
        "ascii_capitalize(\"Oh what a beautiful morning.\") ➞ \"oH wHaT a BeauTiFuL\n",
        "moRNiNg.\""
      ],
      "metadata": {
        "id": "gzOPSOwzGMQ9"
      }
    },
    {
      "cell_type": "code",
      "source": [
        "def ascii_capitalize(string):\n",
        "    result = ''\n",
        "    for char in string:\n",
        "        if ord(char) % 2 == 0:\n",
        "            result += char.upper()\n",
        "        else:\n",
        "            result += char.lower()\n",
        "    return result\n",
        "\n",
        "print(ascii_capitalize(\"to be or not to be!\"))  # \"To Be oR NoT To Be!\"\n",
        "print(ascii_capitalize(\"THE LITTLE MERMAID\"))  # \"THe LiTTLe meRmaiD\"\n",
        "print(ascii_capitalize(\"Oh what a beautiful morning.\"))  # \"oH wHaT a BeauTiFuL moRNiNg.\"\n"
      ],
      "metadata": {
        "id": "11y1uqlyGqkg"
      },
      "execution_count": null,
      "outputs": []
    }
  ]
}