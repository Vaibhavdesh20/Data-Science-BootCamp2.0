{
  "nbformat": 4,
  "nbformat_minor": 0,
  "metadata": {
    "colab": {
      "provenance": [],
      "collapsed_sections": []
    },
    "kernelspec": {
      "name": "python3",
      "display_name": "Python 3"
    },
    "language_info": {
      "name": "python"
    }
  },
  "cells": [
    {
      "cell_type": "markdown",
      "source": [
        "#1.What are the two values of the Boolean data type? How do you write them?\n",
        "True\n",
        "False"
      ],
      "metadata": {
        "id": "S9go6HOvETgc"
      }
    },
    {
      "cell_type": "code",
      "source": [
        "a=True\n",
        "b=False\n",
        "print(type(a),type(b))"
      ],
      "metadata": {
        "colab": {
          "base_uri": "https://localhost:8080/"
        },
        "id": "dBRoWO_dEmEV",
        "outputId": "22b989f5-d1b3-42db-becf-bd7533d40b4d"
      },
      "execution_count": 1,
      "outputs": [
        {
          "output_type": "stream",
          "name": "stdout",
          "text": [
            "<class 'bool'> <class 'bool'>\n"
          ]
        }
      ]
    },
    {
      "cell_type": "markdown",
      "source": [
        "#2. What are the three different types of Boolean operators?\n",
        "and,or,not,in"
      ],
      "metadata": {
        "id": "dJHBfrmDFBDQ"
      }
    },
    {
      "cell_type": "markdown",
      "source": [
        "#3. Make a list of each Boolean operator's truth tables (i.e. every possible combination of Boolean\n",
        "values for the operator and what it evaluate ).\n",
        "\n",
        "![Cape.PNG](data:image/png;base64,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)\n",
        "\n",
        "True is 1 and False is 0\n",
        "Truth Table for AND\n",
        "A B output\n",
        "0 0 0\n",
        "0 1 0\n",
        "1 0 0\n",
        "1 1 1\n",
        "Truth Table for OR\n",
        "A B output\n",
        "0 0 0\n",
        "0 1 1\n",
        "1 0 1\n",
        "1 1 1\n",
        "Truth Table for NOT\n",
        "A output\n",
        "0 1\n",
        "1 0\n",
        "\n"
      ],
      "metadata": {
        "id": "ielFK99PFh6_"
      }
    },
    {
      "cell_type": "markdown",
      "source": [
        "#4. What are the values of the following expressions?\n",
        "(5 > 4) and (3 == 5) #False\n",
        "not (5 > 4) #False\n",
        "(5 > 4) or (3 == 5)#True\n",
        "not ((5 > 4) or (3 == 5))#False\n",
        "(True and True) and (True == False)#False\n",
        "(not False) or (not True)#True"
      ],
      "metadata": {
        "id": "QpXuMhklKZaO"
      }
    },
    {
      "cell_type": "markdown",
      "source": [
        "#5. What are the six comparison operators?\n",
        "# ==, !=, >,<,>=,<="
      ],
      "metadata": {
        "id": "Bz47jR72Mf-w"
      }
    },
    {
      "cell_type": "markdown",
      "source": [
        "#6. How do you tell the difference between the equal to and assignment operators?Describe a\n",
        "condition and when you would use one.\n"
      ],
      "metadata": {
        "id": "A-aEapHHMrN4"
      }
    },
    {
      "cell_type": "code",
      "source": [
        "# Equal To Operator\n",
        "if(8==11):\n",
        "    print(\"True\")\n",
        "else:\n",
        "    print(\"False\")\n",
        "#Assignment operator\n",
        "a=10 #here we have used assignment operator(=) to assign value of a which is 10\n",
        "print(\"a =\",a)"
      ],
      "metadata": {
        "colab": {
          "base_uri": "https://localhost:8080/"
        },
        "id": "pUpV4XeQNt9T",
        "outputId": "d5380da7-e62f-4441-ef75-049212af73fb"
      },
      "execution_count": 10,
      "outputs": [
        {
          "output_type": "stream",
          "name": "stdout",
          "text": [
            "False\n",
            "a = 10\n"
          ]
        }
      ]
    },
    {
      "cell_type": "markdown",
      "source": [
        "#7. Identify the three blocks in this code:"
      ],
      "metadata": {
        "id": "PVr-p8HdOBWC"
      }
    },
    {
      "cell_type": "code",
      "source": [
        "spam = 0\n",
        "if spam == 10:\n",
        "    print('eggs') #Block 1st\n",
        "if spam > 5:\n",
        "    print('bacon') #Block 2nd\n",
        "else:\n",
        "    print('ham') #Block 3rd\n",
        "    print('spam')\n",
        "    print('spam')"
      ],
      "metadata": {
        "colab": {
          "base_uri": "https://localhost:8080/"
        },
        "id": "TGSPAhXJOP9G",
        "outputId": "b3a9a589-7dc1-46a0-85c0-b54ba0de2ffb"
      },
      "execution_count": 11,
      "outputs": [
        {
          "output_type": "stream",
          "name": "stdout",
          "text": [
            "ham\n",
            "spam\n",
            "spam\n"
          ]
        }
      ]
    },
    {
      "cell_type": "markdown",
      "source": [
        "#8. Write code that prints Hello if 1 is stored in spam, prints Howdy if 2 is stored in spam, and prints\n",
        "Greetings! if anything else is stored in spam."
      ],
      "metadata": {
        "id": "xjSB3CBROfXp"
      }
    },
    {
      "cell_type": "code",
      "source": [
        "spam = int(input(\"Input a no.\"))\n",
        "if spam == 1:\n",
        "    print(\"Hello\")\n",
        "elif spam == 2:\n",
        "    print(\"Howdy\")\n",
        "else:\n",
        "    print(\"Greetings!\")\n",
        "        \n",
        "        "
      ],
      "metadata": {
        "colab": {
          "base_uri": "https://localhost:8080/"
        },
        "id": "Ac5YePT6OkpZ",
        "outputId": "9c9cbb9b-f881-4ea6-d203-ec8fb489ff34"
      },
      "execution_count": 12,
      "outputs": [
        {
          "output_type": "stream",
          "name": "stdout",
          "text": [
            "Input a no.10\n",
            "Greetings!\n"
          ]
        }
      ]
    },
    {
      "cell_type": "markdown",
      "source": [
        "#9.If your programme is stuck in an endless loop, what keys you’ll press?\n",
        "#press ctrl+c."
      ],
      "metadata": {
        "id": "1SDnJeGYO01I"
      }
    },
    {
      "cell_type": "markdown",
      "source": [
        "#10. How can you tell the difference between break and continue?\n",
        "\n",
        "Break use to break the loop condition and and program has been end while run the break\n",
        "Continue is use to continue loop statement but its skip value"
      ],
      "metadata": {
        "id": "zhoU7UAAO_pX"
      }
    },
    {
      "cell_type": "code",
      "source": [
        "for i in range(10):\n",
        "    if(i==7):\n",
        "        break\n",
        "    print(i,end=' ')\n",
        "    \n",
        "print('Breaked')\n",
        "#use of  continue\n",
        "for i in range(10):\n",
        "    if(i==7):\n",
        "        continue\n",
        "    print(i,end=' ')"
      ],
      "metadata": {
        "colab": {
          "base_uri": "https://localhost:8080/"
        },
        "id": "tX9y8FeePFbv",
        "outputId": "af070f54-8aed-482e-a1d6-075b2ce23c70"
      },
      "execution_count": 15,
      "outputs": [
        {
          "output_type": "stream",
          "name": "stdout",
          "text": [
            "0 1 2 3 4 5 6 Breaked\n",
            "0 1 2 3 4 5 6 8 9 "
          ]
        }
      ]
    },
    {
      "cell_type": "markdown",
      "source": [
        "#11. In a for loop, what is the difference between range(10), range(0, 10), and range(0, 10, 1)?\n",
        "\n",
        "Range(10) is a give end value means the range has create 0 to 9.\n",
        "Range(0,10) is a give start value 0 and end value 10 so range create 0 to 9\n",
        "range (0,10,1) is give start value 0,end value 10, and step 1 range create 0 to 9 "
      ],
      "metadata": {
        "id": "XOPspmrdQk6z"
      }
    },
    {
      "cell_type": "code",
      "source": [
        "for i in range(10):\n",
        "    print(i,end=' ')\n",
        "print()\n",
        "for i in range(0,10):\n",
        "    print(i,end=' ')\n",
        "print()\n",
        "for i in range(0,10,1):\n",
        "    print(i,end=' ')"
      ],
      "metadata": {
        "colab": {
          "base_uri": "https://localhost:8080/"
        },
        "id": "hZQjAuvDQ1kE",
        "outputId": "67fd4cbe-19a1-4764-9d3b-b53613209a93"
      },
      "execution_count": 19,
      "outputs": [
        {
          "output_type": "stream",
          "name": "stdout",
          "text": [
            "0 1 2 3 4 5 6 7 8 9 \n",
            "0 1 2 3 4 5 6 7 8 9 \n",
            "0 1 2 3 4 5 6 7 8 9 "
          ]
        }
      ]
    },
    {
      "cell_type": "markdown",
      "source": [
        "#12. Write a short program that prints the numbers 1 to 10 using a for loop. Then write an equivalent\n",
        "program that prints the numbers 1 to 10 using a while loop."
      ],
      "metadata": {
        "id": "WaOPRLzsS8GM"
      }
    },
    {
      "cell_type": "code",
      "source": [
        "\n",
        "print(\"For Loop\")\n",
        "for i in range(1,11):\n",
        "    print(i,end=' ')\n",
        "print()\n",
        "print(\"While Loop\")\n",
        "a =1\n",
        "while a <= 10:\n",
        "    print(a,end=' ')\n",
        "    a+=1"
      ],
      "metadata": {
        "colab": {
          "base_uri": "https://localhost:8080/"
        },
        "id": "HuDeaQ1hTDpK",
        "outputId": "3eb03fc5-4a24-47a0-84bd-be1b25cc148a"
      },
      "execution_count": 21,
      "outputs": [
        {
          "output_type": "stream",
          "name": "stdout",
          "text": [
            "For Loop\n",
            "1 2 3 4 5 6 7 8 9 10 \n",
            "While Loop\n",
            "1 2 3 4 5 6 7 8 9 10 "
          ]
        }
      ]
    },
    {
      "cell_type": "markdown",
      "source": [
        "#13. If you had a function named bacon() inside a module named spam, how would you call it after\n",
        "importing spam?"
      ],
      "metadata": {
        "id": "rVr5Zv8RTj6R"
      }
    },
    {
      "cell_type": "code",
      "source": [
        "def bacon():\n",
        "  named=spam\n",
        "  print(named)\n",
        "\n",
        "bacon()\n",
        "\n",
        "\n"
      ],
      "metadata": {
        "colab": {
          "base_uri": "https://localhost:8080/"
        },
        "id": "Nm7B01o1TlUg",
        "outputId": "15f9b02d-3c3e-414d-c997-8bf9e6f00b8f"
      },
      "execution_count": 26,
      "outputs": [
        {
          "output_type": "stream",
          "name": "stdout",
          "text": [
            "10\n"
          ]
        }
      ]
    }
  ]
}