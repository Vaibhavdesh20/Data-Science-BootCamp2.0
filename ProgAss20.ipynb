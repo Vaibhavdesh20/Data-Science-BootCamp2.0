{
  "nbformat": 4,
  "nbformat_minor": 0,
  "metadata": {
    "colab": {
      "provenance": []
    },
    "kernelspec": {
      "name": "python3",
      "display_name": "Python 3"
    },
    "language_info": {
      "name": "python"
    }
  },
  "cells": [
    {
      "cell_type": "markdown",
      "source": [
        "# Question1\n",
        "Create a function that takes a list of strings and integers, and filters out the list so that it\n",
        "returns a list of integers only.\n",
        "Examples\n",
        "filter_list([1, 2, 3, \"a\" , \"b\" , 4]) ➞ [1, 2, 3, 4]\n",
        "filter_list([\"A\", 0, \"Edabit\", 1729, \"Python\", \"1729\"]) ➞ [0, 1729]\n",
        "filter_list([\"Nothing\", \"here\"]) ➞ []\n",
        "\n"
      ],
      "metadata": {
        "id": "wBAEePA5ZfpK"
      }
    },
    {
      "cell_type": "code",
      "source": [
        "def filter_list(lst):\n",
        "    return [x for x in lst if isinstance(x, int)]\n",
        "\n",
        "print(filter_list([1, 2, 3, \"a\", \"b\", 4]))  # Output: [1, 2, 3, 4]\n",
        "print(filter_list([\"A\", 0, \"Edabit\", 1729, \"Python\", \"1729\"]))  # Output: [0, 1729]\n",
        "print(filter_list([\"Nothing\", \"here\"]))  # Output: []\n"
      ],
      "metadata": {
        "id": "ZCyjsnANa3nq"
      },
      "execution_count": null,
      "outputs": []
    },
    {
      "cell_type": "markdown",
      "source": [
        "# Question2\n",
        "Given a list of numbers, create a function which returns the list but with each element's\n",
        "index in the list added to itself. This means you add 0 to the number at index 0, add 1 to the\n",
        "number at index 1, etc...\n",
        "Examples\n",
        "add_indexes([0, 0, 0, 0, 0]) ➞ [0, 1, 2, 3, 4]\n",
        "add_indexes([1, 2, 3, 4, 5]) ➞ [1, 3, 5, 7, 9]\n",
        "add_indexes([5, 4, 3, 2, 1]) ➞ [5, 5, 5, 5, 5]"
      ],
      "metadata": {
        "id": "pK--nc9lbGNk"
      }
    },
    {
      "cell_type": "code",
      "source": [
        "def add_indexes(lst):\n",
        "    return [i + num for i, num in enumerate(lst)]\n",
        "\n",
        "\n",
        "print(add_indexes([0, 0, 0, 0, 0]))  # Output: [0, 1, 2, 3, 4]\n",
        "print(add_indexes([1, 2, 3, 4, 5]))  # Output: [1, 3, 5, 7, 9]\n",
        "print(add_indexes([5, 4, 3, 2, 1]))  # Output: [5, 5, 5, 5, 5]\n"
      ],
      "metadata": {
        "id": "fcaqCDLObo55"
      },
      "execution_count": null,
      "outputs": []
    },
    {
      "cell_type": "code",
      "source": [
        "# Question3\n",
        "Create a function that takes the height and radius of a cone as arguments and returns the\n",
        "volume of the cone rounded to the nearest hundredth. See the resources tab for the formula.\n",
        "\n",
        "Examples\n",
        "cone_volume(3, 2) ➞ 12.57\n",
        "\n",
        "cone_volume(15, 6) ➞ 565.49\n",
        "cone_volume(18, 0) ➞ 0\n"
      ],
      "metadata": {
        "id": "SvploTFmbyIe"
      },
      "execution_count": null,
      "outputs": []
    },
    {
      "cell_type": "code",
      "source": [
        "import math\n",
        "\n",
        "def cone_volume(h, r):\n",
        "    volume = (1/3) * math.pi * r**2 * h\n",
        "    return round(volume, 2)\n",
        "\n",
        "print(cone_volume(3, 2))  # Output: 12.57\n",
        "print(cone_volume(15, 6))  # Output: 565.49\n",
        "print(cone_volume(18, 0))  # Output: 0.0\n"
      ],
      "metadata": {
        "id": "2e1OTQplcSoF"
      },
      "execution_count": null,
      "outputs": []
    },
    {
      "cell_type": "markdown",
      "source": [
        "# Question4\n",
        "This Triangular Number Sequence is generated from a pattern of dots that form a triangle.\n",
        "The first 5 numbers of the sequence, or dots, are:\n",
        "1, 3, 6, 10, 15\n",
        "This means that the first triangle has just one dot, the second one has three dots, the third one\n",
        "has 6 dots and so on.\n",
        "Write a function that gives the number of dots with its corresponding triangle number of the\n",
        "sequence.\n",
        "Examples\n",
        "triangle(1) ➞ 1\n",
        "triangle(6) ➞ 21\n",
        "triangle(215) ➞ 23220"
      ],
      "metadata": {
        "id": "GKEaMQpGcfbt"
      }
    },
    {
      "cell_type": "code",
      "source": [
        "def triangle(n):\n",
        "    dots = (n * (n + 1)) // 2\n",
        "    return dots\n",
        "\n",
        "print(triangle(1))  # Output: 1\n",
        "print(triangle(6))  # Output: 21\n",
        "print(triangle(215))  # Output: 23220\n"
      ],
      "metadata": {
        "id": "ophcj5Q0ebNT"
      },
      "execution_count": null,
      "outputs": []
    },
    {
      "cell_type": "markdown",
      "source": [
        "# Question5\n",
        "Create a function that takes a list of numbers between 1 and 10 (excluding one number) and\n",
        "returns the missing number.\n",
        "Examples\n",
        "missing_num([1, 2, 3, 4, 6, 7, 8, 9, 10]) ➞ 5\n",
        "missing_num([7, 2, 3, 6, 5, 9, 1, 4, 8]) ➞ 10\n",
        "missing_num([10, 5, 1, 2, 4, 6, 8, 3, 9]) ➞ 7"
      ],
      "metadata": {
        "id": "xAt6h7s3egUL"
      }
    },
    {
      "cell_type": "code",
      "source": [
        "def missing_num(lst):\n",
        "    expected_sum = sum(range(1, 11))  # Sum of numbers from 1 to 10\n",
        "    actual_sum = sum(lst)  # Sum of the given list\n",
        "    missing_number = expected_sum - actual_sum\n",
        "    return missing_number\n",
        "\n",
        "print(missing_num([1, 2, 3, 4, 6, 7, 8, 9, 10]))  # Output: 5\n",
        "print(missing_num([7, 2, 3, 6, 5, 9, 1, 4, 8]))  # Output: 10\n",
        "print(missing_num([10, 5, 1, 2, 4, 6, 8, 3, 9]))  # Output: 7\n"
      ],
      "metadata": {
        "id": "IgQ4DxvYe3dU"
      },
      "execution_count": null,
      "outputs": []
    }
  ]
}