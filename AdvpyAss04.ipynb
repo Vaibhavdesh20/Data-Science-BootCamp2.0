{
  "nbformat": 4,
  "nbformat_minor": 0,
  "metadata": {
    "colab": {
      "provenance": []
    },
    "kernelspec": {
      "name": "python3",
      "display_name": "Python 3"
    },
    "language_info": {
      "name": "python"
    }
  },
  "cells": [
    {
      "cell_type": "markdown",
      "source": [
        "# Q1. Which two operator overloading methods can you use in your classes to support iteration?\n",
        "\n",
        "__iter__ method: This method enables the object to be iterated using a loop or other iterable constructs. It should return an iterator object that implements the __next__ method. The __iter__ method is called when the loop is initialized.\n",
        "\n",
        "__next__ method: This method is used by the iterator object to return the next item in the iteration sequence. It should either return the next item or raise the StopIteration exception if there are no more items to iterate over. The __next__ method is called for each iteration step after the __iter__ method has been called.\n",
        "\n",
        "Here's an example that demonstrates the usage of these two methods for iteration:"
      ],
      "metadata": {
        "id": "gz1gRZLSS7R2"
      }
    },
    {
      "cell_type": "code",
      "source": [
        "class MyIterable:\n",
        "    def __init__(self, data):\n",
        "        self.data = data\n",
        "        self.index = 0\n",
        "\n",
        "    def __iter__(self):\n",
        "        return self\n",
        "\n",
        "    def __next__(self):\n",
        "        if self.index >= len(self.data):\n",
        "            raise StopIteration\n",
        "        item = self.data[self.index]\n",
        "        self.index += 1\n",
        "        return item\n",
        "\n",
        "\n",
        "\n",
        "my_iterable = MyIterable([1, 2, 3, 4, 5])\n",
        "\n",
        "for item in my_iterable:\n",
        "    print(item)\n"
      ],
      "metadata": {
        "id": "1wBqMzENTepe"
      },
      "execution_count": null,
      "outputs": []
    },
    {
      "cell_type": "markdown",
      "source": [
        "# Q2. In what contexts do the two operator overloading methods manage printing?\n",
        "\n",
        "__str__ method: This method is called by the built-in str() function and by the print() function to obtain a string representation of the object. It should return a human-readable string that describes the object. This method is typically used for producing output that is intended for end-users.\n",
        "\n",
        "__repr__ method: This method is called by the built-in repr() function and by the interactive interpreter to obtain a string representation of the object. It should return a string that represents a valid Python expression that can be used to recreate the object. This method is primarily used for debugging and development purposes.\n",
        "\n",
        "Here's an example that demonstrates the usage of __str__ and __repr__ methods:"
      ],
      "metadata": {
        "id": "miYaNiRATpXQ"
      }
    },
    {
      "cell_type": "code",
      "source": [
        "class MyClass:\n",
        "    def __init__(self, value):\n",
        "        self.value = value\n",
        "\n",
        "    def __str__(self):\n",
        "        return f\"MyClass(value={self.value})\"\n",
        "\n",
        "    def __repr__(self):\n",
        "        return f\"MyClass(value={self.value})\"\n",
        "\n",
        "\n",
        "\n",
        "obj = MyClass(42)\n",
        "\n",
        "print(str(obj))  # Output: MyClass(value=42)\n",
        "print(repr(obj))  # Output: MyClass(value=42)\n"
      ],
      "metadata": {
        "id": "KooJYlhzUNq8"
      },
      "execution_count": null,
      "outputs": []
    },
    {
      "cell_type": "markdown",
      "source": [
        "# Q3. In a class, how do you intercept slice operations?\n",
        "\n",
        "To intercept slice operations in a class, you can implement the __getitem__ method. This method is used to handle indexing operations, including slicing, on an object. When you use square brackets ([]) to access elements or slices of an instance of your class, the __getitem__ method is called with the appropriate arguments.\n",
        "\n",
        "Here's an example that demonstrates how to intercept slice operations using the __getitem__ method:"
      ],
      "metadata": {
        "id": "YqI15jZHUUK7"
      }
    },
    {
      "cell_type": "code",
      "source": [
        "class MyList:\n",
        "    def __init__(self, data):\n",
        "        self.data = data\n",
        "\n",
        "    def __getitem__(self, index):\n",
        "        if isinstance(index, slice):\n",
        "            # Handle slice operation\n",
        "            start, stop, step = index.start, index.stop, index.step\n",
        "            return self.data[start:stop:step]\n",
        "        else:\n",
        "            # Handle single index operation\n",
        "            return self.data[index]\n",
        "\n",
        "\n",
        "\n",
        "my_list = MyList([1, 2, 3, 4, 5])\n",
        "\n",
        "# Single index access\n",
        "print(my_list[2])  # Output: 3\n",
        "\n",
        "# Slice operation\n",
        "print(my_list[1:4:2])  # Output: [2, 4]\n"
      ],
      "metadata": {
        "id": "5G5TFV_5Ug-a"
      },
      "execution_count": null,
      "outputs": []
    },
    {
      "cell_type": "markdown",
      "source": [
        "# Q4. In a class, how do you capture in-place addition?\n",
        "\n",
        "To capture in-place addition (+=) operations in a class, you can implement the __iadd__ method. This method is called when the in-place addition operator is used on an instance of your class. It allows you to define custom behavior for in-place addition operations.\n",
        "\n",
        "Here's an example that demonstrates how to capture in-place addition using the __iadd__ method:"
      ],
      "metadata": {
        "id": "JneE5U90Um2C"
      }
    },
    {
      "cell_type": "code",
      "source": [
        "class MyNumber:\n",
        "    def __init__(self, value):\n",
        "        self.value = value\n",
        "\n",
        "    def __iadd__(self, other):\n",
        "        self.value += other\n",
        "        return self\n",
        "\n",
        "\n",
        "\n",
        "num = MyNumber(5)\n",
        "num += 3\n",
        "\n",
        "print(num.value)  # Output: 8\n"
      ],
      "metadata": {
        "id": "Zic2Lo-_Uwvw"
      },
      "execution_count": null,
      "outputs": []
    },
    {
      "cell_type": "markdown",
      "source": [
        "# Q5. When is it appropriate to use operator overloading?\n",
        "\n",
        "Emulating built-in types: Operator overloading allows you to define custom behavior for operators on your own classes, making them behave similar to built-in types. For example, you can define addition (+) for your custom class to concatenate objects or define equality (==) to compare instances based on specific attributes.\n",
        "\n",
        "Creating domain-specific abstractions: Operator overloading can be useful when creating domain-specific abstractions that model real-world concepts. By overloading operators, you can define intuitive and expressive operations on your objects. For instance, you could overload arithmetic operators on a Vector class to perform vector addition, subtraction, or dot product calculations.\n",
        "\n",
        "Improving code readability: Operator overloading can make your code more readable and expressive by using familiar operators in a natural way. Instead of calling explicit methods or functions, you can leverage operators that convey the intended behavior concisely. This can make your code easier to understand, especially for developers familiar with the underlying domain.\n",
        "\n",
        "Simplifying code syntax: Operator overloading can simplify the syntax of your code by allowing you to use operators in a natural and intuitive way. This can reduce verbosity and make your code more concise and elegant. For example, by overloading the [] operator, you can access elements of your custom class using square bracket notation, similar to accessing elements in a list.\n",
        "\n",
        "Interoperability with existing code: Operator overloading can facilitate interoperability with existing code and libraries that rely on specific operators. By providing custom implementations for operators, you can seamlessly integrate your custom classes into existing codebases and leverage existing functionality.\n",
        "\n",
        "However, it's important to use operator overloading judiciously and ensure that the overloaded operators maintain their expected behavior and adhere to the principle of least surprise. Operator overloading should be used when it enhances the clarity and readability of your code and when the behavior aligns with the intuitive expectations of other developers working with your code."
      ],
      "metadata": {
        "id": "MSniOY6fU2vH"
      }
    }
  ]
}