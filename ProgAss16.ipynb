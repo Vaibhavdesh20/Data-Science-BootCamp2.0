{
  "nbformat": 4,
  "nbformat_minor": 0,
  "metadata": {
    "colab": {
      "provenance": []
    },
    "kernelspec": {
      "name": "python3",
      "display_name": "Python 3"
    },
    "language_info": {
      "name": "python"
    }
  },
  "cells": [
    {
      "cell_type": "markdown",
      "source": [
        "# Question1. Write a function that stutters a word as if someone is struggling to read it. The first two letters are repeated twice with an ellipsis ... and space after each, and then the word is pronounced with a question mark ?.\n",
        "Examples \n",
        "stutter(\"incredible\") ➞ \"in... in... incredible?\" \n",
        "stutter(\"enthusiastic\") ➞ \"en... en... enthusiastic?\"\n",
        "stutter(\"outstanding\") ➞ \"ou... ou... outstanding?\"\n",
        "\n",
        "Hint :- Assume all input is in lower case and at least two characters long."
      ],
      "metadata": {
        "id": "J_BsfSasIGWO"
      }
    },
    {
      "cell_type": "code",
      "source": [
        "def stutter(word):\n",
        "    first_two_letters = word[:2]\n",
        "    stuttered_word = f\"{first_two_letters}... {first_two_letters}... {word}?\"\n",
        "    return stuttered_word\n",
        "\n",
        "print(stutter(\"incredible\"))      # Output: in... in... incredible?\n",
        "print(stutter(\"enthusiastic\"))    # Output: en... en... enthusiastic?\n",
        "print(stutter(\"outstanding\"))     # Output: ou... ou... outstanding?\n"
      ],
      "metadata": {
        "colab": {
          "base_uri": "https://localhost:8080/"
        },
        "id": "GT_Mki41I6q2",
        "outputId": "ee904b41-486d-4bbc-ecee-2962383f4f1b"
      },
      "execution_count": null,
      "outputs": [
        {
          "output_type": "stream",
          "name": "stdout",
          "text": [
            "in... in... incredible?\n",
            "en... en... enthusiastic?\n",
            "ou... ou... outstanding?\n"
          ]
        }
      ]
    },
    {
      "cell_type": "markdown",
      "source": [
        "# Question 2.Create a function that takes an angle in radians and returns the corresponding angle in degrees rounded to one decimal place.\n",
        "Examples\n",
        "radians_to_degrees(1) ➞ 57.3\n",
        "radians_to_degrees(20) ➞ 1145.9\n",
        "radians_to_degrees(50) ➞ 2864.8"
      ],
      "metadata": {
        "id": "BMDwNXylJScZ"
      }
    },
    {
      "cell_type": "code",
      "source": [
        "import math\n",
        "\n",
        "def radians_to_degrees(radians):\n",
        "    degrees = radians * (180 / math.pi)\n",
        "    return round(degrees, 1)\n",
        "\n",
        "print(radians_to_degrees(1))    # Output: 57.3\n",
        "print(radians_to_degrees(20))   # Output: 1145.9\n",
        "print(radians_to_degrees(50))   # Output: 2864.8\n"
      ],
      "metadata": {
        "colab": {
          "base_uri": "https://localhost:8080/"
        },
        "id": "1eGUbBTgKLpe",
        "outputId": "c17495a3-6c16-483c-93ac-dc6830ace12c"
      },
      "execution_count": null,
      "outputs": [
        {
          "output_type": "stream",
          "name": "stdout",
          "text": [
            "57.3\n",
            "1145.9\n",
            "2864.8\n"
          ]
        }
      ]
    },
    {
      "cell_type": "markdown",
      "source": [
        "Question 3. In this challenge, establish if a given integer num is a Curzon number. If 1 plus\n",
        "2 elevated to num is exactly divisible by 1 plus 2 multiplied by num, then num is a Curzon\n",
        "number.\n",
        "Given a non-negative integer num, implement a function that returns True if num is a Curzon\n",
        "number, or False otherwise.\n",
        "Examples\n",
        "is_curzon(5) ➞ True\n",
        "# 2 ** 5 + 1 = 33\n",
        "# 2 * 5 + 1 = 11\n",
        "# 33 is a multiple of 11\n",
        "is_curzon(10) ➞ False\n",
        "# 2 ** 10 + 1 = 1025\n",
        "# 2 * 10 + 1 = 21\n",
        "# 1025 is not a multiple of 21\n",
        "is_curzon(14) ➞ True\n",
        "# 2 ** 14 + 1 = 16385\n",
        "# 2 * 14 + 1 = 29\n",
        "# 16385 is a multiple of 29"
      ],
      "metadata": {
        "id": "OEOzPz-5K6HU"
      }
    },
    {
      "cell_type": "code",
      "source": [
        "def is_curzon(num):\n",
        "    numerator = 2 ** num + 1\n",
        "    denominator = 2 * num + 1\n",
        "    return numerator % denominator == 0\n",
        "\n",
        "print(is_curzon(5))    \n",
        "print(is_curzon(10))   \n",
        "print(is_curzon(14))   \n"
      ],
      "metadata": {
        "colab": {
          "base_uri": "https://localhost:8080/"
        },
        "id": "xMwZQu-UMEIl",
        "outputId": "28b72a10-ea46-413a-ff38-7d7e6de63105"
      },
      "execution_count": null,
      "outputs": [
        {
          "output_type": "stream",
          "name": "stdout",
          "text": [
            "True\n",
            "False\n",
            "True\n"
          ]
        }
      ]
    },
    {
      "cell_type": "markdown",
      "source": [
        "Question 4.Given the side length x find the area of a hexagon.\n",
        "\n",
        "Examples\n",
        "area_of_hexagon(1) ➞ 2.6\n",
        "area_of_hexagon(2) ➞ 10.4\n",
        "area_of_hexagon(3) ➞ 23.4"
      ],
      "metadata": {
        "id": "kGiEFILDOQ6w"
      }
    },
    {
      "cell_type": "code",
      "source": [
        "import math\n",
        "\n",
        "def area_of_hexagon(x):\n",
        "    area = (3 * math.sqrt(3) * x ** 2) / 2\n",
        "    return round(area, 1)\n",
        "    \n",
        "print(area_of_hexagon(1))    \n",
        "print(area_of_hexagon(2))  \n",
        "print(area_of_hexagon(3))    \n"
      ],
      "metadata": {
        "colab": {
          "base_uri": "https://localhost:8080/"
        },
        "id": "7bMp0vjaOWbN",
        "outputId": "6e239ca5-51de-475b-ad6e-bd75b552db17"
      },
      "execution_count": null,
      "outputs": [
        {
          "output_type": "stream",
          "name": "stdout",
          "text": [
            "2.6\n",
            "10.4\n",
            "23.4\n"
          ]
        }
      ]
    },
    {
      "cell_type": "markdown",
      "source": [
        "# Question 5. Create a function that returns a base-2 (binary) representation of a base-10\n",
        "(decimal) string number. To convert is simple: ((2) means base-2 and (10) means base-10)\n",
        "010101001(2) = 1 + 8 + 32 + 128.\n",
        "Going from right to left, the value of the most right bit is 1, now from that every bit to the left\n",
        "will be x2 the value, value of an 8 bit binary numbers are (256, 128, 64, 32, 16, 8, 4, 2, 1).\n",
        "Examples\n",
        "binary(1) ➞ \"1\"\n",
        "# 1*1 = 1\n",
        "binary(5) ➞ \"101\"\n",
        "# 1*1 + 1*4 = 5\n",
        "binary(10) ➞ \"1010\"\n",
        "# 1*2 + 1*8 = 10"
      ],
      "metadata": {
        "id": "hj2hstkuOzCK"
      }
    },
    {
      "cell_type": "code",
      "source": [
        "def binary(decimal):\n",
        "    binary_num = bin(decimal)[2:]\n",
        "    return binary_num\n",
        "\n",
        "print(binary(1))    \n",
        "print(binary(5))    \n",
        "print(binary(10))   \n"
      ],
      "metadata": {
        "id": "977Vue0hQHQq"
      },
      "execution_count": null,
      "outputs": []
    }
  ]
}