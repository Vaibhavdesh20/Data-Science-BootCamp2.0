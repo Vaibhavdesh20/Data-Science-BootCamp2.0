{
  "nbformat": 4,
  "nbformat_minor": 0,
  "metadata": {
    "colab": {
      "provenance": [],
      "collapsed_sections": []
    },
    "kernelspec": {
      "name": "python3",
      "display_name": "Python 3"
    },
    "language_info": {
      "name": "python"
    }
  },
  "cells": [
    {
      "cell_type": "markdown",
      "source": [
        "#1. In the below elements which of them are values or an expression? eg:- values can be\n",
        "integer or string and expressions will be mathematical operators.\n",
        "*\n",
        "\"hello\"\n",
        "-87.8\n",
        "-\n",
        "/\n",
        "+\n",
        "6"
      ],
      "metadata": {
        "id": "JVqPuCIC_f5V"
      }
    },
    {
      "cell_type": "code",
      "source": [
        "#  * is a mathematical operator use by multiplication\n",
        "# \"hello\" is a string \n",
        "# -87.8 is a expression is denoted float value\n",
        "# - is mathematical opertor use by substraction\n",
        "# / is a divisiable mathematical opertor\n",
        "# + is a addition mathematical opertor\n",
        "# 6 is a integer value"
      ],
      "metadata": {
        "id": "_sAsgpfuBAFL"
      },
      "execution_count": null,
      "outputs": []
    },
    {
      "cell_type": "markdown",
      "source": [
        "#2. What is the difference between string and variable?\n",
        "String is a indecated as symbol like \"\",'',''' ''',\"\"\" \"\"\" any words or sentence write in these symbol is say string value\n",
        "variable is assing the value like n='iNueron'\n",
        "n is variable and iNueron is string value"
      ],
      "metadata": {
        "id": "geK_0EJcee-3"
      }
    },
    {
      "cell_type": "markdown",
      "source": [
        "#3. Describe three different data types.\n"
      ],
      "metadata": {
        "id": "FEI52JLagLbw"
      }
    },
    {
      "cell_type": "code",
      "source": [
        "name=\"iNueron\" #String\n",
        "Number=25      # Interger\n",
        "number=3.5     # Float\n",
        "print(type(name),type(Number),type(number))"
      ],
      "metadata": {
        "colab": {
          "base_uri": "https://localhost:8080/"
        },
        "id": "o-ijHEV5gTO_",
        "outputId": "873d40b3-3c45-45e8-b349-e3bc79a86619"
      },
      "execution_count": 1,
      "outputs": [
        {
          "output_type": "stream",
          "name": "stdout",
          "text": [
            "<class 'str'> <class 'int'> <class 'float'>\n"
          ]
        }
      ]
    },
    {
      "cell_type": "markdown",
      "source": [
        "#4. What is an expression made up of? What do all expressions do?\n",
        "An expression is a combination of operators and operands that is interpreted to produce some other value. In any programming language, an expression is evaluated as per the precedence of its operators\n",
        "its a use variable,condition statement,loop,function,class.\n"
      ],
      "metadata": {
        "id": "g3O3zmPd0Jza"
      }
    },
    {
      "cell_type": "markdown",
      "source": [
        "#5. This assignment statements, like spam = 10. What is the difference between an\n",
        "expression and a statement?\n",
        "Expression always evaluates to a value and Statement does something, like creating a variable or displaying a value, it only does whatever the statement says."
      ],
      "metadata": {
        "id": "uP2i8pQo3zX3"
      }
    },
    {
      "cell_type": "markdown",
      "source": [
        "#6. After running the following code, what does the variable bacon contain?\n",
        "bacon = 22\n",
        "bacon + 1\n",
        "bacon variable contain 23"
      ],
      "metadata": {
        "id": "_0Y9xrUj5d2o"
      }
    },
    {
      "cell_type": "code",
      "source": [
        "bacon = 22\n",
        "bacon + 1"
      ],
      "metadata": {
        "colab": {
          "base_uri": "https://localhost:8080/"
        },
        "id": "Y_-s5FKf5jt0",
        "outputId": "9b298f40-27d9-40a7-ad49-7658a2f6d63f"
      },
      "execution_count": 2,
      "outputs": [
        {
          "output_type": "execute_result",
          "data": {
            "text/plain": [
              "23"
            ]
          },
          "metadata": {},
          "execution_count": 2
        }
      ]
    },
    {
      "cell_type": "markdown",
      "source": [
        "7. What should the values of the following two terms be?\n",
        "'spam'+'spamspam'# Values of this eqution is concatenation like'spamspamspam'\n",
        "'spam'*3  # Values of this eqution is 'spamspamspam'"
      ],
      "metadata": {
        "id": "7faL9aPU50Je"
      }
    },
    {
      "cell_type": "code",
      "source": [
        "'spam'+'spamspam'\n",
        "'spam'*3"
      ],
      "metadata": {
        "colab": {
          "base_uri": "https://localhost:8080/",
          "height": 35
        },
        "id": "QDO-yRoe6JNG",
        "outputId": "1fdf81cc-c7b9-47cd-bbb3-9924891f55d7"
      },
      "execution_count": 8,
      "outputs": [
        {
          "output_type": "execute_result",
          "data": {
            "text/plain": [
              "'spamspamspam'"
            ],
            "application/vnd.google.colaboratory.intrinsic+json": {
              "type": "string"
            }
          },
          "metadata": {},
          "execution_count": 8
        }
      ]
    },
    {
      "cell_type": "markdown",
      "source": [
        "#8.Why is eggs a valid variable name while 100 is invalid?\n",
        "Because vairable is start alaphabet and also combination of alaphabet and number but not start as a number thats why 100 is not valid variable. "
      ],
      "metadata": {
        "id": "Fqa-9Z6d7M5T"
      }
    },
    {
      "cell_type": "markdown",
      "source": [
        "#9. What three functions can be used to get the integer, floating-point number, or string\n",
        "version of a value?\n",
        "int(),float(),str()\n",
        "number=25 #int value\n",
        "Number=3.5#floating-point number\n",
        "name=\"iNueron\" # String value"
      ],
      "metadata": {
        "id": "hIb2F1KG8fn4"
      }
    },
    {
      "cell_type": "markdown",
      "source": [
        "#10. Why does this expression cause an error? How can you fix it?\n",
        "'I have eaten'+99+'burritos.'\n",
        "Because str value not concatenation with int value thats why TypeError is coming.\n",
        "you want to fix it so,int use as a str value like '99'"
      ],
      "metadata": {
        "id": "ODF9eKzi9l2i"
      }
    },
    {
      "cell_type": "code",
      "source": [
        "'I have eaten'+'99'+'burritos.'"
      ],
      "metadata": {
        "colab": {
          "base_uri": "https://localhost:8080/",
          "height": 35
        },
        "id": "UfuMu-xZ-D0g",
        "outputId": "5566b8da-4848-4087-eae0-23e9874db1ff"
      },
      "execution_count": 13,
      "outputs": [
        {
          "output_type": "execute_result",
          "data": {
            "text/plain": [
              "'I have eaten99burritos.'"
            ],
            "application/vnd.google.colaboratory.intrinsic+json": {
              "type": "string"
            }
          },
          "metadata": {},
          "execution_count": 13
        }
      ]
    }
  ]
}