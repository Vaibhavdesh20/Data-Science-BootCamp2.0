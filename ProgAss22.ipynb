{
  "nbformat": 4,
  "nbformat_minor": 0,
  "metadata": {
    "colab": {
      "provenance": []
    },
    "kernelspec": {
      "name": "python3",
      "display_name": "Python 3"
    },
    "language_info": {
      "name": "python"
    }
  },
  "cells": [
    {
      "cell_type": "markdown",
      "source": [
        "# Question1\n",
        "Create a function that takes three parameters where:\n",
        " x is the start of the range (inclusive).\n",
        " y is the end of the range (inclusive).\n",
        " n is the divisor to be checked against.\n",
        "Return an ordered list with numbers in the range that are divisible by the third parameter n.\n",
        "Return an empty list if there are no numbers that are divisible by n.\n",
        "Examples\n",
        "list_operation(1, 10, 3) ➞ [3, 6, 9]\n",
        "list_operation(7, 9, 2) ➞ [8]\n",
        "list_operation(15, 20, 7) ➞ []"
      ],
      "metadata": {
        "id": "eli2YB8o3Dup"
      }
    },
    {
      "cell_type": "code",
      "source": [
        "def list_operation(x, y, n):\n",
        "    return [num for num in range(x, y + 1) if num % n == 0]\n",
        "\n",
        "print(list_operation(1, 10, 3))  # Output: [3, 6, 9]\n",
        "print(list_operation(7, 9, 2))  # Output: [8]\n",
        "print(list_operation(15, 20, 7))  # Output: []\n"
      ],
      "metadata": {
        "id": "JHhJYuHo3ta6"
      },
      "execution_count": null,
      "outputs": []
    },
    {
      "cell_type": "markdown",
      "source": [
        "# Question2\n",
        "Create a function that takes in two lists and returns True if the second list follows the first list\n",
        "by one element, and False otherwise. In other words, determine if the second list is the first\n",
        "list shifted to the right by 1.\n",
        "Examples\n",
        "simon_says([1, 2], [5, 1]) ➞ True\n",
        "simon_says([1, 2], [5, 5]) ➞ False\n",
        "simon_says([1, 2, 3, 4, 5], [0, 1, 2, 3, 4]) ➞ True\n",
        "simon_says([1, 2, 3, 4, 5], [5, 5, 1, 2, 3]) ➞ False\n",
        "Notes\n",
        " Both input lists will be of the same length, and will have a minimum length of 2.\n",
        " The values of the 0-indexed element in the second list and the n-1th indexed element\n",
        "in the first list do not matter.\n",
        "\n",
        "\n"
      ],
      "metadata": {
        "id": "DtL5WKLM2k2I"
      }
    },
    {
      "cell_type": "code",
      "source": [
        "def simon_says(list1, list2):\n",
        "    return list1[:-1] == list2[1:]\n",
        "\n",
        "print(simon_says([1, 2], [5, 1]))  # True\n",
        "print(simon_says([1, 2], [5, 5]))  # False\n",
        "print(simon_says([1, 2, 3, 4, 5], [0, 1, 2, 3, 4]))  # True\n",
        "print(simon_says([1, 2, 3, 4, 5], [5, 5, 1, 2, 3]))  # False\n"
      ],
      "metadata": {
        "id": "57-MA9mN2s5n"
      },
      "execution_count": null,
      "outputs": []
    },
    {
      "cell_type": "markdown",
      "source": [
        "# Question3\n",
        "A group of friends have decided to start a secret society. The name will be the first letter of\n",
        "each of their names, sorted in alphabetical order.\n",
        "Create a function that takes in a list of names and returns the name of the secret society.\n",
        "\n",
        "Examples\n",
        "society_name([\"Adam\", \"Sarah\", \"Malcolm\"]) ➞ \"AMS\"\n",
        "society_name([\"Harry\", \"Newt\", \"Luna\", \"Cho\"]) ➞ \"CHLN\"\n",
        "society_name([\"Phoebe\", \"Chandler\", \"Rachel\", \"Ross\", \"Monica\", \"Joey\"])"
      ],
      "metadata": {
        "id": "YOHoU-Ud26Cy"
      }
    },
    {
      "cell_type": "code",
      "source": [
        "def society_name(names):\n",
        "    initials = [name[0] for name in names]\n",
        "    return ''.join(sorted(initials))\n",
        "\n",
        "print(society_name([\"Adam\", \"Sarah\", \"Malcolm\"]))  # \"AMS\"\n",
        "print(society_name([\"Harry\", \"Newt\", \"Luna\", \"Cho\"]))  # \"CHLN\"\n",
        "print(society_name([\"Phoebe\", \"Chandler\", \"Rachel\", \"Ross\", \"Monica\", \"Joey\"]))  # \"CJMPRR\"\n",
        "\n"
      ],
      "metadata": {
        "id": "2Cul5dmP4LZb"
      },
      "execution_count": null,
      "outputs": []
    },
    {
      "cell_type": "markdown",
      "source": [
        "# Question4\n",
        "An isogram is a word that has no duplicate letters. Create a function that takes a string and\n",
        "returns either True or False depending on whether or not it's an \"isogram\".\n",
        "Examples\n",
        "is_isogram(\"Algorism\") ➞ True\n",
        "is_isogram(\"PasSword\") ➞ False\n",
        "# Not case sensitive.\n",
        "is_isogram(\"Consecutive\") ➞ False\n",
        "Notes\n",
        " Ignore letter case (should not be case sensitive).\n",
        " All test cases contain valid one word strings."
      ],
      "metadata": {
        "id": "523oQpvv4cpC"
      }
    },
    {
      "cell_type": "code",
      "source": [
        "def is_isogram(string):\n",
        "    lower_string = string.lower()\n",
        "    return len(set(lower_string)) == len(lower_string)\n",
        "\n",
        "\n",
        "print(is_isogram(\"Algorism\"))  # True\n",
        "print(is_isogram(\"PasSword\"))  # False\n",
        "print(is_isogram(\"Consecutive\"))  # False\n"
      ],
      "metadata": {
        "id": "7zHurN1w43Vk"
      },
      "execution_count": null,
      "outputs": []
    },
    {
      "cell_type": "markdown",
      "source": [
        "# Question5\n",
        "Create a function that takes a string and returns True or False, depending on whether the\n",
        "characters are in order or not.\n",
        "Examples\n",
        "is_in_order(\"abc\") ➞ True\n",
        "is_in_order(\"edabit\") ➞ False\n",
        "is_in_order(\"123\") ➞ True\n",
        "is_in_order(\"xyzz\") ➞ True\n",
        "Notes\n",
        "You don't have to handle empty strings.\n",
        "\n"
      ],
      "metadata": {
        "id": "W_WjGHdC5GDY"
      }
    },
    {
      "cell_type": "code",
      "source": [
        "def is_in_order(string):\n",
        "    return string == ''.join(sorted(string))\n",
        "\n",
        "print(is_in_order(\"abc\"))  # True\n",
        "print(is_in_order(\"edabit\"))  # False\n",
        "print(is_in_order(\"123\"))  # True\n",
        "print(is_in_order(\"xyzz\"))  # True\n"
      ],
      "metadata": {
        "id": "XxyN24IY5lRC"
      },
      "execution_count": null,
      "outputs": []
    },
    {
      "cell_type": "markdown",
      "source": [],
      "metadata": {
        "id": "32HCcabc31sZ"
      }
    }
  ]
}