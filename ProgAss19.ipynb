{
  "nbformat": 4,
  "nbformat_minor": 0,
  "metadata": {
    "colab": {
      "provenance": []
    },
    "kernelspec": {
      "name": "python3",
      "display_name": "Python 3"
    },
    "language_info": {
      "name": "python"
    }
  },
  "cells": [
    {
      "cell_type": "markdown",
      "source": [
        "# Question1\n",
        "Create a function that takes a string and returns a string in which each character is repeated\n",
        "once.\n",
        "Examples\n",
        "double_char(\"String\") ➞ \"SSttrriinngg\"\n",
        "double_char(\"Hello World!\") ➞ \"HHeelllloo WWoorrlldd!!\"\n",
        "double_char(\"1234!_ \") ➞ \"11223344!!__ \""
      ],
      "metadata": {
        "id": "_Kc-DAwLoPx2"
      }
    },
    {
      "cell_type": "code",
      "source": [
        "def double_char(string):\n",
        "    doubled_string = ''.join(c * 2 for c in string)\n",
        "    return doubled_string\n",
        "\n",
        "print(double_char(\"String\"))  # Output: \"SSttrriinngg\"\n",
        "print(double_char(\"Hello World!\"))  # Output: \"HHeelllloo  WWoorrlldd!!\"\n",
        "print(double_char(\"1234!_ \"))  # Output: \"11223344!!__  \"\n"
      ],
      "metadata": {
        "id": "B1nH0wSlpDAB"
      },
      "execution_count": null,
      "outputs": []
    },
    {
      "cell_type": "markdown",
      "source": [
        "# Question2\n",
        "Create a function that reverses a boolean value and returns the string &\"boolean expected\"\n",
        "if another variable type is given.\n",
        "Examples\n",
        "reverse(True) ➞ False\n",
        "reverse(False) ➞ True\n",
        "reverse(0) ➞ \"boolean expected\"\n",
        "reverse(None) ➞ \"boolean expected\""
      ],
      "metadata": {
        "id": "AgHZe_tQpIC2"
      }
    },
    {
      "cell_type": "code",
      "source": [
        "def reverse(value):\n",
        "    if isinstance(value, bool):\n",
        "        return not value\n",
        "    else:\n",
        "        return \"boolean expected\"\n",
        "\n",
        "\n",
        "print(reverse(True))  # Output: False\n",
        "print(reverse(False))  # Output: True\n",
        "print(reverse(0))  # Output: \"boolean expected\"\n",
        "print(reverse(None))  # Output: \"boolean expected\"\n"
      ],
      "metadata": {
        "id": "ZVdLCfhGqu8A"
      },
      "execution_count": null,
      "outputs": []
    },
    {
      "cell_type": "markdown",
      "source": [
        "# Question3\n",
        "Create a function that returns the thickness (in meters) of a piece of paper after folding it n\n",
        "number of times. The paper starts off with a thickness of 0.5mm.\n",
        "Examples\n",
        "num_layers(1) ➞ \"0.001m\"\n",
        "# Paper folded once is 1mm (equal to 0.001m)\n",
        "num_layers(4) ➞ \"0.008m\"\n",
        "# Paper folded 4 times is 8mm (equal to 0.008m)\n",
        "num_layers(21) ➞ \"1048.576m\"\n",
        "# Paper folded 21 times is 1048576mm (equal to 1048.576m)"
      ],
      "metadata": {
        "id": "uWGbsdAHq3bR"
      }
    },
    {
      "cell_type": "code",
      "source": [
        "def num_layers(n):\n",
        "    thickness_mm = 0.5 * (2 ** n)\n",
        "    thickness_m = thickness_mm / 1000\n",
        "    return \"{:.3f}m\".format(thickness_m)\n",
        "\n",
        "print(num_layers(1))  # Output: \"0.001m\"\n",
        "print(num_layers(4))  # Output: \"0.008m\"\n",
        "print(num_layers(21))  # Output: \"1048.576m\"\n"
      ],
      "metadata": {
        "id": "uYKTlBoFrWXt"
      },
      "execution_count": null,
      "outputs": []
    },
    {
      "cell_type": "markdown",
      "source": [
        "# Question4\n",
        "\n",
        "Create a function that takes a single string as argument and returns an ordered list containing\n",
        "the indices of all capital letters in the string.\n",
        "Examples\n",
        "index_of_caps(\"eDaBiT\") ➞ [1, 3, 5]\n",
        "index_of_caps(\"eQuINoX\") ➞ [1, 3, 4, 6]\n",
        "index_of_caps(\"determine\") ➞ []\n",
        "index_of_caps(\"STRIKE\") ➞ [0, 1, 2, 3, 4, 5]\n",
        "index_of_caps(\"sUn\") ➞ [1]"
      ],
      "metadata": {
        "id": "upHUyA1_rZEi"
      }
    },
    {
      "cell_type": "code",
      "source": [
        "def index_of_caps(string):\n",
        "    indices = [index for index, char in enumerate(string) if char.isupper()]\n",
        "    return indices\n",
        "\n",
        "print(index_of_caps(\"eDaBiT\"))  # Output: [1, 3, 5]\n",
        "print(index_of_caps(\"eQuINoX\"))  # Output: [1, 3, 4, 6]\n",
        "print(index_of_caps(\"determine\"))  # Output: []\n",
        "print(index_of_caps(\"STRIKE\"))  # Output: [0, 1, 2, 3, 4, 5]\n",
        "print(index_of_caps(\"sUn\"))  # Output: [1]\n"
      ],
      "metadata": {
        "id": "CxjQ6HOKsa5A"
      },
      "execution_count": null,
      "outputs": []
    },
    {
      "cell_type": "markdown",
      "source": [
        "# Question5\n",
        "Using list comprehensions, create a function that finds all even numbers from 1 to the given\n",
        "number.\n",
        "Examples\n",
        "find_even_nums(8) ➞ [2, 4, 6, 8]\n",
        "find_even_nums(4) ➞ [2, 4]\n",
        "find_even_nums(2) ➞ [2]"
      ],
      "metadata": {
        "id": "56tFIvUjskFt"
      }
    },
    {
      "cell_type": "code",
      "source": [
        "def find_even_nums(n):\n",
        "    even_nums = [num for num in range(1, n + 1) if num % 2 == 0]\n",
        "    return even_nums\n",
        "    \n",
        "print(find_even_nums(8))  # Output: [2, 4, 6, 8]\n",
        "print(find_even_nums(4))  # Output: [2, 4]\n",
        "print(find_even_nums(2))  # Output: [2]\n"
      ],
      "metadata": {
        "id": "QKzCgwMutA-7"
      },
      "execution_count": null,
      "outputs": []
    }
  ]
}