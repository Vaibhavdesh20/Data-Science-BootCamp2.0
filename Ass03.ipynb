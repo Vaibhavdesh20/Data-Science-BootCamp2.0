{
  "nbformat": 4,
  "nbformat_minor": 0,
  "metadata": {
    "colab": {
      "provenance": [],
      "collapsed_sections": []
    },
    "kernelspec": {
      "name": "python3",
      "display_name": "Python 3"
    },
    "language_info": {
      "name": "python"
    }
  },
  "cells": [
    {
      "cell_type": "markdown",
      "source": [
        "#1. Why are functions advantageous to have in your programs?\n"
      ],
      "metadata": {
        "id": "EtrDqQFPPxIW"
      }
    },
    {
      "cell_type": "markdown",
      "source": [
        "Because:-\n",
        "*The use of functions helps avoid duplication of code and effort. \n",
        "*This makes programs shorter, easier to read, and easier to update.\n",
        "* Function help to make one time in program and it may be necessary to perform the same tasks multiple times\n",
        "* reduces the size of both the source code and executable code.\n"
      ],
      "metadata": {
        "id": "T0eB_91HP4h2"
      }
    },
    {
      "cell_type": "markdown",
      "source": [
        "#2. When does the code in a function run: when it's specified or when it's called?"
      ],
      "metadata": {
        "id": "kfeC2_Z0StoI"
      }
    },
    {
      "cell_type": "markdown",
      "source": [
        "*The code in a function executes when the function is called, not when the function is defined.\n",
        "*When a function is called the program leaves the current section of code and begins to execute the first line inside the function."
      ],
      "metadata": {
        "id": "lOEVNKdAUJ0K"
      }
    },
    {
      "cell_type": "markdown",
      "source": [
        "#3. What statement creates a function?"
      ],
      "metadata": {
        "id": "9TklbyH3U46-"
      }
    },
    {
      "cell_type": "markdown",
      "source": [],
      "metadata": {
        "id": "2kBm6fNBTbrL"
      }
    },
    {
      "cell_type": "markdown",
      "source": [
        "*The def statement defines, i.e. creates a function.\n",
        "*To create a function, we must first declare it and give it a name, the same way we'd create any variable, and then we follow it by a function  \n",
        "function():"
      ],
      "metadata": {
        "id": "OPwkk6ddVN_2"
      }
    },
    {
      "cell_type": "markdown",
      "source": [
        "# 4. What is the difference between a function and a function call?\n"
      ],
      "metadata": {
        "id": "e8F5r1VJV_I0"
      }
    },
    {
      "cell_type": "markdown",
      "source": [
        "* **function** is a block of code that does a particular operation and returns a result. It usually accepts inputs as parameters and returns a result. The parameters are not mandatory.\n",
        "* **function call** is the code used to pass control to a function."
      ],
      "metadata": {
        "id": "-yYnz3frXfBn"
      }
    },
    {
      "cell_type": "markdown",
      "source": [
        "# 5. How many global scopes are there in a Python program? How many local scopes?"
      ],
      "metadata": {
        "id": "9x5NbL6XX4-u"
      }
    },
    {
      "cell_type": "markdown",
      "source": [
        "* There is one global scope, and a local scope is created whenever a function is called."
      ],
      "metadata": {
        "id": "20OIu1s7X_rN"
      }
    },
    {
      "cell_type": "markdown",
      "source": [
        "# 6. What happens to variables in a local scope when the function call returns?"
      ],
      "metadata": {
        "id": "kk5CZbeUYWss"
      }
    },
    {
      "cell_type": "markdown",
      "source": [
        "* When a function returns, the local scope is destroyed, and all the variables in it are forgotten."
      ],
      "metadata": {
        "id": "w3mTfKUlYc7k"
      }
    },
    {
      "cell_type": "markdown",
      "source": [
        "# 7. What is the concept of a return value? Is it possible to have a return value in an expression?"
      ],
      "metadata": {
        "id": "peLDWJMuYiKc"
      }
    },
    {
      "cell_type": "markdown",
      "source": [
        "* A return value is the value that a function call evaluates to. Like any value, a return value can be used as part of an expression."
      ],
      "metadata": {
        "id": "9CHdVnmnYnJM"
      }
    },
    {
      "cell_type": "markdown",
      "source": [
        "# 8. If a function does not have a return statement, what is the return value of a call to that function?"
      ],
      "metadata": {
        "id": "DD_Wslm6YrEr"
      }
    },
    {
      "cell_type": "markdown",
      "source": [
        "* If there is no return statement for a function, its return value is None."
      ],
      "metadata": {
        "id": "uAHerntVYvl7"
      }
    },
    {
      "cell_type": "markdown",
      "source": [
        "# 9. How do you make a function variable refer to the global variable?"
      ],
      "metadata": {
        "id": "0DDY1MvfY3hq"
      }
    },
    {
      "cell_type": "markdown",
      "source": [
        "* A global statement will force a variable in a function to refer to the global variable.\n",
        "* also create out of function is also indicated global variable"
      ],
      "metadata": {
        "id": "JAbHehSQY6n7"
      }
    },
    {
      "cell_type": "markdown",
      "source": [
        "# 10. What is the data type of None?"
      ],
      "metadata": {
        "id": "ahpayrnIZbbx"
      }
    },
    {
      "cell_type": "markdown",
      "source": [
        "* The data type of None is NoneType."
      ],
      "metadata": {
        "id": "EWsvIz3dZc1x"
      }
    },
    {
      "cell_type": "markdown",
      "source": [
        "# 11. What does the sentence import areallyourpetsnamederic do?"
      ],
      "metadata": {
        "id": "hY__GRDOZhsh"
      }
    },
    {
      "cell_type": "markdown",
      "source": [
        "* That import statement imports a module named areallyourpetsnamederic."
      ],
      "metadata": {
        "id": "7W2XPan4Zldh"
      }
    },
    {
      "cell_type": "markdown",
      "source": [],
      "metadata": {
        "id": "9Pavp_PKZw3H"
      }
    },
    {
      "cell_type": "markdown",
      "source": [
        "# 12. If you had a bacon() feature in a spam module, what would you call it after importing spam?"
      ],
      "metadata": {
        "id": "eWc0m4hkZw9g"
      }
    },
    {
      "cell_type": "markdown",
      "source": [
        "* This function can be called with spam.bacon()."
      ],
      "metadata": {
        "id": "v47q5DzUZ1tQ"
      }
    },
    {
      "cell_type": "markdown",
      "source": [
        "# 13. What can you do to save a programme from crashing if it encounters an error?"
      ],
      "metadata": {
        "id": "1X0Wq-XSZ97X"
      }
    },
    {
      "cell_type": "markdown",
      "source": [
        "* Place the line of code that might cause an error in a try clause."
      ],
      "metadata": {
        "id": "QE69ab7IaCd3"
      }
    },
    {
      "cell_type": "markdown",
      "source": [
        "# 14. What is the purpose of the try clause? What is the purpose of the except clause?"
      ],
      "metadata": {
        "id": "XqPDPhB_aHQ_"
      }
    },
    {
      "cell_type": "markdown",
      "source": [
        "* The code that could potentially cause an error goes in the try clause. -The code that executes if an error happens goes in the except clause."
      ],
      "metadata": {
        "id": "L8PH-iFqaL5O"
      }
    },
    {
      "cell_type": "markdown",
      "source": [],
      "metadata": {
        "id": "UWLk0ZGAVrmU"
      }
    }
  ]
}