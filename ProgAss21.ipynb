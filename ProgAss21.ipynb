{
  "nbformat": 4,
  "nbformat_minor": 0,
  "metadata": {
    "colab": {
      "provenance": []
    },
    "kernelspec": {
      "name": "python3",
      "display_name": "Python 3"
    },
    "language_info": {
      "name": "python"
    }
  },
  "cells": [
    {
      "cell_type": "markdown",
      "source": [
        "# Question1\n",
        "Write a function that takes a list and a number as arguments. Add the number to the end of\n",
        "the list, then remove the first element of the list. The function should then return the updated\n",
        "list.\n",
        "Examples\n",
        "next_in_line([5, 6, 7, 8, 9], 1) ➞ [6, 7, 8, 9, 1]\n",
        "next_in_line([7, 6, 3, 23, 17], 10) ➞ [6, 3, 23, 17, 10]\n",
        "next_in_line([1, 10, 20, 42 ], 6) ➞ [10, 20, 42, 6]\n",
        "next_in_line([], 6) ➞ \"No list has been selected\""
      ],
      "metadata": {
        "id": "E-mr51s1ffc_"
      }
    },
    {
      "cell_type": "code",
      "source": [
        "def next_in_line(lst, number):\n",
        "    if not lst:\n",
        "        return \"No list has been selected\"\n",
        "    lst.append(number)\n",
        "    lst.pop(0)\n",
        "    return lst\n",
        "\n",
        "\n",
        "print(next_in_line([5, 6, 7, 8, 9], 1))  # Output: [6, 7, 8, 9, 1]\n",
        "print(next_in_line([7, 6, 3, 23, 17], 10))  # Output: [6, 3, 23, 17, 10]\n",
        "print(next_in_line([1, 10, 20, 42], 6))  # Output: [10, 20, 42, 6]\n",
        "print(next_in_line([], 6))  # Output: \"No list has been selected\"\n"
      ],
      "metadata": {
        "id": "KoaZCxLwg35e"
      },
      "execution_count": null,
      "outputs": []
    },
    {
      "cell_type": "markdown",
      "source": [
        "# Question2\n",
        "Create the function that takes a list of dictionaries and returns the sum of people's budgets.\n",
        "Examples\n",
        "get_budgets([\n",
        "{ \"name\": \"John\", \"age\": 21, \"budget\": 23000 },\n",
        "{ \"name\": \"Steve\", \"age\": 32, \"budget\": 40000 },\n",
        "{ \"name\": \"Martin\", \"age\": 16, \"budget\": 2700 }\n",
        "]) ➞ 65700\n",
        "get_budgets([\n",
        "{ \"name&\": \"John\", \"age\": 21, \"budget\": 29000 },\n",
        "{ \"name\": \"Steve\", \"age\": 32, \"budget\": 32000 },\n",
        "{ \"name\": \"Martin\", \"age\": 16, \"budget\": 1600 }\n",
        "]) ➞ 62600"
      ],
      "metadata": {
        "id": "RD8Js-ZnhCM5"
      }
    },
    {
      "cell_type": "code",
      "source": [
        "def get_budgets(lst):\n",
        "    return sum(person['budget'] for person in lst)\n",
        "\n",
        "print(get_budgets([\n",
        "    {\"name\": \"John\", \"age\": 21, \"budget\": 23000},\n",
        "    {\"name\": \"Steve\", \"age\": 32, \"budget\": 40000},\n",
        "    {\"name\": \"Martin\", \"age\": 16, \"budget\": 2700}\n",
        "]))  # Output: 65700\n",
        "\n",
        "print(get_budgets([\n",
        "    {\"name\": \"John\", \"age\": 21, \"budget\": 29000},\n",
        "    {\"name\": \"Steve\", \"age\": 32, \"budget\": 32000},\n",
        "    {\"name\": \"Martin\", \"age\": 16, \"budget\": 1600}\n",
        "]))  # Output: 62600\n"
      ],
      "metadata": {
        "id": "_QYQ41ogo_hH"
      },
      "execution_count": null,
      "outputs": []
    },
    {
      "cell_type": "markdown",
      "source": [
        "# Question3\n",
        "Create a function that takes a string and returns a string with its letters in alphabetical order.\n",
        "Examples\n",
        "alphabet_soup(\"hello\") ➞ \"ehllo\"\n",
        "alphabet_soup(\"edabit\") ➞ \"abdeit\"\n",
        "alphabet_soup(\"hacker\") ➞ \"acehkr\"\n",
        "alphabet_soup(\"geek\") ➞ \"eegk\"\n",
        "alphabet_soup(\"javascript\") ➞ \"aacijprstv\"\n"
      ],
      "metadata": {
        "id": "Qgohu9DypQuB"
      }
    },
    {
      "cell_type": "code",
      "source": [
        "def alphabet_soup(string):\n",
        "    return ''.join(sorted(string))\n",
        "\n",
        "print(alphabet_soup(\"hello\"))  # Output: \"ehllo\"\n",
        "print(alphabet_soup(\"edabit\"))  # Output: \"abdeit\"\n",
        "print(alphabet_soup(\"hacker\"))  # Output: \"acehkr\"\n",
        "print(alphabet_soup(\"geek\"))  # Output: \"eegk\"\n",
        "print(alphabet_soup(\"javascript\"))  # Output: \"aacijprstv\"\n"
      ],
      "metadata": {
        "id": "70TUxHOPsmzF"
      },
      "execution_count": null,
      "outputs": []
    },
    {
      "cell_type": "markdown",
      "source": [
        "# Question4\n",
        "Suppose that you invest $10,000 for 10 years at an interest rate of 6% compounded monthly.\n",
        "What will be the value of your investment at the end of the 10 year period?\n",
        "Create a function that accepts the principal p, the term in years t, the interest rate r, and the\n",
        "number of compounding periods per year n. The function returns the value at the end of term\n",
        "rounded to the nearest cent.\n",
        "For the example above:\n",
        "compound_interest(10000, 10, 0.06, 12) ➞ 18193.97\n",
        "Note that the interest rate is given as a decimal and n=12 because with monthly compounding\n",
        "there are 12 periods per year. Compounding can also be done annually, quarterly, weekly, or\n",
        "daily.\n",
        "Examples\n",
        "compound_interest(100, 1, 0.05, 1) ➞ 105.0\n",
        "compound_interest(3500, 15, 0.1, 4) ➞ 15399.26\n",
        "compound_interest(100000, 20, 0.15, 365) ➞ 2007316.26"
      ],
      "metadata": {
        "id": "dPrw71WGs6lq"
      }
    },
    {
      "cell_type": "code",
      "source": [
        "def compound_interest(p, t, r, n):\n",
        "    A = p * (1 + r/n)**(n*t)\n",
        "    return round(A, 2)\n",
        "\n",
        "print(compound_interest(100, 1, 0.05, 1))  # Output: 105.0\n",
        "print(compound_interest(3500, 15, 0.1, 4))  # Output: 15399.26\n",
        "print(compound_interest(100000, 20, 0.15, 365))  # Output: 2007316.26\n",
        "\n"
      ],
      "metadata": {
        "id": "AJUko348tS5P"
      },
      "execution_count": null,
      "outputs": []
    },
    {
      "cell_type": "markdown",
      "source": [
        "# Question5\n",
        "Write a function that takes a list of elements and returns only the integers.\n",
        "Examples\n",
        "return_only_integer([9, 2, \"space\", \"car\", \"lion\", 16]) ➞ [9, 2, 16]\n",
        "return_only_integer([\"hello\", 81, \"basketball\", 123, \"fox\"]) ➞ [81, 123]\n",
        "return_only_integer([10, \"121\", 56, 20, \"car\", 3, \"lion\"]) ➞ [10, 56, 20,\n",
        "3]\n",
        "return_only_integer([\"String\", True, 3.3, 1]) ➞ [1]"
      ],
      "metadata": {
        "id": "jYiLSmKkvZr_"
      }
    },
    {
      "cell_type": "code",
      "source": [
        "def return_only_integer(lst):\n",
        "    return [x for x in lst if isinstance(x, int)]\n",
        "\n",
        "\n",
        "print(return_only_integer([9, 2, \"space\", \"car\", \"lion\", 16]))  # Output: [9, 2, 16]\n",
        "print(return_only_integer([\"hello\", 81, \"basketball\", 123, \"fox\"]))  # Output: [81, 123]\n",
        "print(return_only_integer([10, \"121\", 56, 20, \"car\", 3, \"lion\"]))  # Output: [10, 56, 20, 3]\n",
        "print(return_only_integer([\"String\", True, 3.3, 1]))  # Output: [1]\n"
      ],
      "metadata": {
        "id": "Eg4hFwygwFN2"
      },
      "execution_count": null,
      "outputs": []
    }
  ]
}