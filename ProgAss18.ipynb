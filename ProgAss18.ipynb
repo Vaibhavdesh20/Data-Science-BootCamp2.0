{
  "nbformat": 4,
  "nbformat_minor": 0,
  "metadata": {
    "colab": {
      "provenance": []
    },
    "kernelspec": {
      "name": "python3",
      "display_name": "Python 3"
    },
    "language_info": {
      "name": "python"
    }
  },
  "cells": [
    {
      "cell_type": "markdown",
      "source": [
        "# Question 1\n",
        "Create a function that takes a list of non-negative integers and strings and return a new list\n",
        "without the strings.\n",
        "Examples\n",
        "filter_list([1, 2, \"a\", \"b\"]) ➞ [1, 2]\n",
        "filter_list([1, \"a\", \"b\", 0, 15]) ➞ [1, 0, 15]\n",
        "filter_list([1, 2, \"aasf\", \"1\", \"123\", 123]) ➞ [1, 2, 123]"
      ],
      "metadata": {
        "id": "lLPK3pgjcbAv"
      }
    },
    {
      "cell_type": "code",
      "source": [
        "def filter_list(lst):\n",
        "    return [x for x in lst if isinstance(x, int)]\n",
        "\n",
        "print(filter_list([1, 2, \"a\", \"b\"]))  # Output: [1, 2]\n",
        "print(filter_list([1, \"a\", \"b\", 0, 15]))  # Output: [1, 0, 15]\n",
        "print(filter_list([1, 2, \"aasf\", \"1\", \"123\", 123]))  # Output: [1, 2, 123]\n"
      ],
      "metadata": {
        "colab": {
          "base_uri": "https://localhost:8080/"
        },
        "id": "mWDKEXrrjQNb",
        "outputId": "ed69778a-698e-422c-dfda-d102377cac31"
      },
      "execution_count": null,
      "outputs": [
        {
          "output_type": "stream",
          "name": "stdout",
          "text": [
            "[1, 2]\n",
            "[1, 0, 15]\n",
            "[1, 2, 123]\n"
          ]
        }
      ]
    },
    {
      "cell_type": "markdown",
      "source": [
        "#Question 2\n",
        "The \"Reverser\" takes a string as input and returns that string in reverse order, with the\n",
        "opposite case.\n",
        "Examples\n",
        "reverse(\"Hello World\") ➞ \"DLROw OLLEh\"\n",
        "reverse(\"ReVeRsE\") ➞ \"eSrEvEr\"\n",
        "reverse(\"Radar\") ➞ \"RADAr\""
      ],
      "metadata": {
        "id": "2pFMyH7Xjqbn"
      }
    },
    {
      "cell_type": "code",
      "source": [
        "def reverse(string):\n",
        "    reversed_string = string[::-1]  # Reverse the string using slicing\n",
        "    swapped_case = \"\".join(c.lower() if c.isupper() else c.upper() for c in reversed_string)\n",
        "    return swapped_case\n",
        "\n",
        "print(reverse(\"Hello World\"))  # Output: \"DLROw OLLEh\"\n",
        "print(reverse(\"ReVeRsE\"))  # Output: \"eSrEvEr\"\n",
        "print(reverse(\"Radar\"))  # Output: \"RADAr\"\n"
      ],
      "metadata": {
        "id": "xwb2qJRokaYk"
      },
      "execution_count": null,
      "outputs": []
    },
    {
      "cell_type": "markdown",
      "source": [
        "#Question 3\n",
        "You can assign variables from lists like this:\n",
        "lst = [1, 2, 3, 4, 5, 6]\n",
        "first = lst[0]\n",
        "middle = lst[1:-1]\n",
        "last = lst[-1]\n",
        "print(first) ➞ outputs 1\n",
        "print(middle) ➞ outputs [2, 3, 4, 5]\n",
        "print(last) ➞ outputs 6\n",
        "With Python 3, you can assign variables from lists in a much more succinct way. Create\n",
        "variables first, middle and last from the given list using destructuring assignment\n",
        "(check the Resources tab for some examples), where:\n",
        "first ➞ 1\n",
        "middle ➞ [2, 3, 4, 5]\n",
        "last ➞ 6\n",
        "\n",
        "Your task is to unpack the list writeyourcodehere into three variables, being first,\n",
        "middle, and last, with middle being everything in between the first and last element. Then\n",
        "print all three variables."
      ],
      "metadata": {
        "id": "2awWzoEOkliC"
      }
    },
    {
      "cell_type": "code",
      "source": [
        "writeyourcodehere = [1, 2, 3, 4, 5, 6]\n",
        "first, *middle, last = writeyourcodehere\n",
        "\n",
        "print(first)  # Output: 1\n",
        "print(middle)  # Output: [2, 3, 4, 5]\n",
        "print(last)  # Output: 6\n"
      ],
      "metadata": {
        "colab": {
          "base_uri": "https://localhost:8080/"
        },
        "id": "D6Rw5mYfmAza",
        "outputId": "52ace045-108b-453f-b23e-6f3e7c035f03"
      },
      "execution_count": null,
      "outputs": [
        {
          "output_type": "stream",
          "name": "stdout",
          "text": [
            "1\n",
            "[2, 3, 4, 5]\n",
            "6\n"
          ]
        }
      ]
    },
    {
      "cell_type": "markdown",
      "source": [
        "# Question 4\n",
        "Write a function that calculates the factorial of a number recursively.\n",
        "Examples\n",
        "factorial(5) ➞ 120\n",
        "factorial(3) ➞ 6\n",
        "factorial(1) ➞ 1\n",
        "factorial(0) ➞ 1"
      ],
      "metadata": {
        "id": "141641CxmH8q"
      }
    },
    {
      "cell_type": "code",
      "source": [
        "def factorial(n):\n",
        "    if n == 0 or n == 1:\n",
        "        return 1\n",
        "    else:\n",
        "        return n * factorial(n - 1)\n",
        "\n",
        "print(factorial(5))  # Output: 120\n",
        "print(factorial(3))  # Output: 6\n",
        "print(factorial(1))  # Output: 1\n",
        "print(factorial(0))  # Output: 1\n"
      ],
      "metadata": {
        "id": "h_gwKV0lmOzd"
      },
      "execution_count": null,
      "outputs": []
    },
    {
      "cell_type": "markdown",
      "source": [
        "# Question 5\n",
        "Write a function that moves all elements of one type to the end of the list.\n",
        "Examples\n",
        "move_to_end([1, 3, 2, 4, 4, 1], 1) ➞ [3, 2, 4, 4, 1, 1]\n",
        "# Move all the 1s to the end of the array.\n",
        "move_to_end([7, 8, 9, 1, 2, 3, 4], 9) ➞ [7, 8, 1, 2, 3, 4, 9]\n",
        "move_to_end([\"a\", \"a\", \"a\", \"b\"], a) ➞ [\"b\", \"a\", \"a\", \"a\"]"
      ],
      "metadata": {
        "id": "DlST2iwjmUWD"
      }
    },
    {
      "cell_type": "code",
      "source": [
        "def move_to_end(lst, element):\n",
        "    count = lst.count(element)  # Count the occurrences of the element\n",
        "    lst = [x for x in lst if x != element]  # Remove all occurrences of the element from the list\n",
        "    lst.extend([element] * count)  # Append the element at the end of the list the same number of times it appeared initially\n",
        "    return lst\n",
        "\n",
        "print(move_to_end([1, 3, 2, 4, 4, 1], 1))  # Output: [3, 2, 4, 4, 1, 1]\n",
        "print(move_to_end([7, 8, 9, 1, 2, 3, 4], 9))  # Output: [7, 8, 1, 2, 3, 4, 9]\n",
        "print(move_to_end([\"a\", \"a\", \"a\", \"b\"], \"a\"))  # Output: [\"b\", \"a\", \"a\", \"a\"]\n"
      ],
      "metadata": {
        "id": "AiPybjFBn085"
      },
      "execution_count": null,
      "outputs": []
    }
  ]
}