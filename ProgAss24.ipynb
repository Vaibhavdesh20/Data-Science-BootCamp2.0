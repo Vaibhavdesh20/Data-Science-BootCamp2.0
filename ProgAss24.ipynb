{
  "nbformat": 4,
  "nbformat_minor": 0,
  "metadata": {
    "colab": {
      "provenance": []
    },
    "kernelspec": {
      "name": "python3",
      "display_name": "Python 3"
    },
    "language_info": {
      "name": "python"
    }
  },
  "cells": [
    {
      "cell_type": "markdown",
      "source": [
        "# Question1\n",
        "Create a function that takes an integer and returns a list from 1 to the given number, where:\n",
        "1. If the number can be divided evenly by 4, amplify it by 10 (i.e. return 10 times the\n",
        "number).\n",
        "2. If the number cannot be divided evenly by 4, simply return the number.\n",
        "Examples\n",
        "amplify(4) ➞ [1, 2, 3, 40]\n",
        "amplify(3) ➞ [1, 2, 3]\n",
        "amplify(25) ➞ [1, 2, 3, 40, 5, 6, 7, 80, 9, 10, 11, 120, 13, 14, 15, 160,\n",
        "17, 18, 19, 200, 21, 22, 23, 240, 25]\n",
        "Notes\n",
        " The given integer will always be equal to or greater than 1.\n",
        " Include the number (see example above).\n",
        " To perform this problem with its intended purpose, try doing it with list\n",
        "comprehensions. If that&#39;s too difficult, just solve the challenge any way you can."
      ],
      "metadata": {
        "id": "AAGyiv7188S6"
      }
    },
    {
      "cell_type": "code",
      "source": [
        "def amplify(num):\n",
        "    return [n * 10 if n % 4 == 0 else n for n in range(1, num + 1)]\n",
        "\n",
        "\n",
        "print(amplify(4))  # [1, 2, 3, 40]\n",
        "print(amplify(3))  # [1, 2, 3]\n",
        "print(amplify(25))  # [1, 2, 3, 40, 5, 6, 7, 80, 9, 10, 11, 120, 13, 14, 15, 160, 17, 18, 19, 200, 21, 22, 23, 240, 25]\n"
      ],
      "metadata": {
        "id": "FM7HLLmQ9-sg"
      },
      "execution_count": null,
      "outputs": []
    },
    {
      "cell_type": "markdown",
      "source": [
        "# Question2\n",
        "Create a function that takes a list of numbers and return the number that&#39;s unique.\n",
        "Examples\n",
        "unique([3, 3, 3, 7, 3, 3]) ➞ 7\n",
        "unique([0, 0, 0.77, 0, 0]) ➞ 0.77\n",
        "unique([0, 1, 1, 1, 1, 1, 1, 1]) ➞ 0\n",
        "Notes\n",
        "Test cases will always have exactly one unique number while all others are the same."
      ],
      "metadata": {
        "id": "QyGbXtye-K9E"
      }
    },
    {
      "cell_type": "code",
      "source": [
        "def unique(lst):\n",
        "    for num in lst:\n",
        "        if lst.count(num) == 1:\n",
        "            return num\n",
        "\n",
        "print(unique([3, 3, 3, 7, 3, 3]))  # 7\n",
        "print(unique([0, 0, 0.77, 0, 0]))  # 0.77\n",
        "print(unique([0, 1, 1, 1, 1, 1, 1, 1]))  # 0\n"
      ],
      "metadata": {
        "id": "Rz-Zdc7G-mYn"
      },
      "execution_count": null,
      "outputs": []
    },
    {
      "cell_type": "markdown",
      "source": [
        "# Question3\n",
        "Your task is to create a Circle constructor that creates a circle with a radius provided by an\n",
        "argument. The circles constructed must have two getters getArea() (PIr^2) and\n",
        "getPerimeter() (2PI*r) which give both respective areas and perimeter (circumference).\n",
        "\n",
        "For help with this class, I have provided you with a Rectangle constructor which you can use\n",
        "as a base example.\n",
        "Examples\n",
        "circy = Circle(11)\n",
        "circy.getArea()\n",
        "# Should return 380.132711084365\n",
        "circy = Circle(4.44)\n",
        "circy.getPerimeter()\n",
        "# Should return 27.897342763877365\n",
        "Notes\n",
        "Round results up to the nearest integer."
      ],
      "metadata": {
        "id": "fbhQZlQt-1ao"
      }
    },
    {
      "cell_type": "code",
      "source": [
        "import math\n",
        "\n",
        "class Circle:\n",
        "    def __init__(self, radius):\n",
        "        self.radius = radius\n",
        "\n",
        "    def getArea(self):\n",
        "        area = math.pi * (self.radius ** 2)\n",
        "        return math.ceil(area)\n",
        "\n",
        "    def getPerimeter(self):\n",
        "        perimeter = 2 * math.pi * self.radius\n",
        "        return math.ceil(perimeter)\n",
        "\n",
        "\n",
        "circy = Circle(11)\n",
        "print(circy.getArea())  # Should return 380\n",
        "circy = Circle(4.44)\n",
        "print(circy.getPerimeter())  # Should return 28\n"
      ],
      "metadata": {
        "id": "-C0lKvGd_IiM"
      },
      "execution_count": null,
      "outputs": []
    },
    {
      "cell_type": "markdown",
      "source": [
        "# Question4\n",
        "Create a function that takes a list of strings and return a list, sorted from shortest to longest.\n",
        "Examples\n",
        "sort_by_length([\"Google\", \"Apple\", \"Microsoft\"])\n",
        "➞ [\"Apple\", \"Google\", \"Microsoft\"]\n",
        "sort_by_length([\"Leonardo\", \"Michelangelo\", \"Raphael\", \"Donatello\"])\n",
        "➞ [\"Raphael\", \"Leonardo\", \"Donatello\", \"Michelangelo\"]\n",
        "sort_by_length([\"Turing\", \"Einstein\", \"Jung\"])\n",
        "➞ [\"Jung\", \"Turing\", \"Einstein\"]\n",
        "Notes\n",
        "All test cases contain lists with strings of different lengths, so you won&#39;t have to deal with\n",
        "multiple strings of the same length."
      ],
      "metadata": {
        "id": "iyKAyYOp_Nsa"
      }
    },
    {
      "cell_type": "code",
      "source": [
        "def sort_by_length(lst):\n",
        "    return sorted(lst, key=len)\n",
        "\n",
        "print(sort_by_length([\"Google\", \"Apple\", \"Microsoft\"]))  # [\"Apple\", \"Google\", \"Microsoft\"]\n",
        "print(sort_by_length([\"Leonardo\", \"Michelangelo\", \"Raphael\", \"Donatello\"]))  # [\"Raphael\", \"Leonardo\", \"Donatello\", \"Michelangelo\"]\n",
        "print(sort_by_length([\"Turing\", \"Einstein\", \"Jung\"]))  # [\"Jung\", \"Turing\", \"Einstein\"]\n"
      ],
      "metadata": {
        "id": "eZyeIDFMAWU_"
      },
      "execution_count": null,
      "outputs": []
    },
    {
      "cell_type": "markdown",
      "source": [
        "# Question5\n",
        "Create a function that validates whether three given integers form a Pythagorean triplet. The\n",
        "sum of the squares of the two smallest integers must equal the square of the largest number to\n",
        "be validated.\n",
        "\n",
        "Examples\n",
        "is_triplet(3, 4, 5) ➞ True\n",
        "# 3² + 4² = 25\n",
        "# 5² = 25\n",
        "is_triplet(13, 5, 12) ➞ True\n",
        "# 5² + 12² = 169\n",
        "# 13² = 169\n",
        "is_triplet(1, 2, 3) ➞ False\n",
        "# 1² + 2² = 5\n",
        "# 3² = 9\n",
        "Notes\n",
        "Numbers may not be given in a sorted order."
      ],
      "metadata": {
        "id": "IrgUobsVA3Dj"
      }
    },
    {
      "cell_type": "code",
      "source": [
        "def is_triplet(a, b, c):\n",
        "    # Arrange the numbers in ascending order\n",
        "    numbers = sorted([a, b, c])\n",
        "    # Check the Pythagorean theorem\n",
        "    return (numbers[0] ** 2) + (numbers[1] ** 2) == (numbers[2] ** 2)\n",
        "\n",
        "print(is_triplet(3, 4, 5))  # True\n",
        "print(is_triplet(13, 5, 12))  # True\n",
        "print(is_triplet(1, 2, 3))  # False\n"
      ],
      "metadata": {
        "id": "EijCPlZjBgg0"
      },
      "execution_count": null,
      "outputs": []
    }
  ]
}